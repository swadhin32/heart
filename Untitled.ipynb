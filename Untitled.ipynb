{
 "cells": [
  {
   "cell_type": "code",
   "execution_count": 1,
   "id": "62826bcd",
   "metadata": {},
   "outputs": [],
   "source": [
    "import numpy as np\n",
    "import pandas as pd\n",
    "import matplotlib.pyplot as plt\n",
    "import seaborn as sns\n",
    "import keras"
   ]
  },
  {
   "cell_type": "code",
   "execution_count": 2,
   "id": "e71bba26",
   "metadata": {},
   "outputs": [],
   "source": [
    "from sklearn.model_selection import train_test_split\n",
    "from sklearn.tree import DecisionTreeClassifier\n",
    "from sklearn.metrics import classification_report, confusion_matrix\n",
    "from sklearn.preprocessing import StandardScaler\n",
    "from sklearn.neighbors import KNeighborsClassifier\n",
    "from mlxtend.frequent_patterns import apriori\n",
    "from mlxtend.frequent_patterns import association_rules"
   ]
  },
  {
   "cell_type": "code",
   "execution_count": 3,
   "id": "9282a105",
   "metadata": {},
   "outputs": [],
   "source": [
    "df = pd.read_csv('heart.csv')"
   ]
  },
  {
   "cell_type": "code",
   "execution_count": 4,
   "id": "b7e90cac",
   "metadata": {},
   "outputs": [
    {
     "name": "stdout",
     "output_type": "stream",
     "text": [
      "(1025, 14)\n"
     ]
    }
   ],
   "source": [
    "print(df.shape)"
   ]
  },
  {
   "cell_type": "code",
   "execution_count": 5,
   "id": "48415789",
   "metadata": {},
   "outputs": [
    {
     "data": {
      "text/html": [
       "<div>\n",
       "<style scoped>\n",
       "    .dataframe tbody tr th:only-of-type {\n",
       "        vertical-align: middle;\n",
       "    }\n",
       "\n",
       "    .dataframe tbody tr th {\n",
       "        vertical-align: top;\n",
       "    }\n",
       "\n",
       "    .dataframe thead th {\n",
       "        text-align: right;\n",
       "    }\n",
       "</style>\n",
       "<table border=\"1\" class=\"dataframe\">\n",
       "  <thead>\n",
       "    <tr style=\"text-align: right;\">\n",
       "      <th></th>\n",
       "      <th>age</th>\n",
       "      <th>sex</th>\n",
       "      <th>cp</th>\n",
       "      <th>trestbps</th>\n",
       "      <th>chol</th>\n",
       "      <th>fbs</th>\n",
       "      <th>restecg</th>\n",
       "      <th>thalach</th>\n",
       "      <th>exang</th>\n",
       "      <th>oldpeak</th>\n",
       "      <th>slope</th>\n",
       "      <th>ca</th>\n",
       "      <th>thal</th>\n",
       "      <th>target</th>\n",
       "    </tr>\n",
       "  </thead>\n",
       "  <tbody>\n",
       "    <tr>\n",
       "      <th>0</th>\n",
       "      <td>52</td>\n",
       "      <td>1</td>\n",
       "      <td>0</td>\n",
       "      <td>125</td>\n",
       "      <td>212</td>\n",
       "      <td>0</td>\n",
       "      <td>1</td>\n",
       "      <td>168</td>\n",
       "      <td>0</td>\n",
       "      <td>1.0</td>\n",
       "      <td>2</td>\n",
       "      <td>2</td>\n",
       "      <td>3</td>\n",
       "      <td>0</td>\n",
       "    </tr>\n",
       "    <tr>\n",
       "      <th>1</th>\n",
       "      <td>53</td>\n",
       "      <td>1</td>\n",
       "      <td>0</td>\n",
       "      <td>140</td>\n",
       "      <td>203</td>\n",
       "      <td>1</td>\n",
       "      <td>0</td>\n",
       "      <td>155</td>\n",
       "      <td>1</td>\n",
       "      <td>3.1</td>\n",
       "      <td>0</td>\n",
       "      <td>0</td>\n",
       "      <td>3</td>\n",
       "      <td>0</td>\n",
       "    </tr>\n",
       "    <tr>\n",
       "      <th>2</th>\n",
       "      <td>70</td>\n",
       "      <td>1</td>\n",
       "      <td>0</td>\n",
       "      <td>145</td>\n",
       "      <td>174</td>\n",
       "      <td>0</td>\n",
       "      <td>1</td>\n",
       "      <td>125</td>\n",
       "      <td>1</td>\n",
       "      <td>2.6</td>\n",
       "      <td>0</td>\n",
       "      <td>0</td>\n",
       "      <td>3</td>\n",
       "      <td>0</td>\n",
       "    </tr>\n",
       "    <tr>\n",
       "      <th>3</th>\n",
       "      <td>61</td>\n",
       "      <td>1</td>\n",
       "      <td>0</td>\n",
       "      <td>148</td>\n",
       "      <td>203</td>\n",
       "      <td>0</td>\n",
       "      <td>1</td>\n",
       "      <td>161</td>\n",
       "      <td>0</td>\n",
       "      <td>0.0</td>\n",
       "      <td>2</td>\n",
       "      <td>1</td>\n",
       "      <td>3</td>\n",
       "      <td>0</td>\n",
       "    </tr>\n",
       "    <tr>\n",
       "      <th>4</th>\n",
       "      <td>62</td>\n",
       "      <td>0</td>\n",
       "      <td>0</td>\n",
       "      <td>138</td>\n",
       "      <td>294</td>\n",
       "      <td>1</td>\n",
       "      <td>1</td>\n",
       "      <td>106</td>\n",
       "      <td>0</td>\n",
       "      <td>1.9</td>\n",
       "      <td>1</td>\n",
       "      <td>3</td>\n",
       "      <td>2</td>\n",
       "      <td>0</td>\n",
       "    </tr>\n",
       "  </tbody>\n",
       "</table>\n",
       "</div>"
      ],
      "text/plain": [
       "   age  sex  cp  trestbps  chol  fbs  restecg  thalach  exang  oldpeak  slope  \\\n",
       "0   52    1   0       125   212    0        1      168      0      1.0      2   \n",
       "1   53    1   0       140   203    1        0      155      1      3.1      0   \n",
       "2   70    1   0       145   174    0        1      125      1      2.6      0   \n",
       "3   61    1   0       148   203    0        1      161      0      0.0      2   \n",
       "4   62    0   0       138   294    1        1      106      0      1.9      1   \n",
       "\n",
       "   ca  thal  target  \n",
       "0   2     3       0  \n",
       "1   0     3       0  \n",
       "2   0     3       0  \n",
       "3   1     3       0  \n",
       "4   3     2       0  "
      ]
     },
     "execution_count": 5,
     "metadata": {},
     "output_type": "execute_result"
    }
   ],
   "source": [
    "df.head()"
   ]
  },
  {
   "cell_type": "code",
   "execution_count": 6,
   "id": "2872510e",
   "metadata": {},
   "outputs": [],
   "source": [
    "df.columns = ['age', 'sex', 'chest_pain_type', 'resting_blood_pressure','cholesterol','fasting_blood_sugar', 'rest_ecg', 'max_heart_rate_achieved',\n",
    "              'exercise_induced_angina','st_depression', 'st_slope', 'num_major_vessels', 'thalassemia', 'target']"
   ]
  },
  {
   "cell_type": "code",
   "execution_count": 7,
   "id": "c4d30841",
   "metadata": {},
   "outputs": [
    {
     "name": "stdout",
     "output_type": "stream",
     "text": [
      "<class 'pandas.core.frame.DataFrame'>\n",
      "RangeIndex: 1025 entries, 0 to 1024\n",
      "Data columns (total 14 columns):\n",
      " #   Column                   Non-Null Count  Dtype  \n",
      "---  ------                   --------------  -----  \n",
      " 0   age                      1025 non-null   int64  \n",
      " 1   sex                      1025 non-null   int64  \n",
      " 2   chest_pain_type          1025 non-null   int64  \n",
      " 3   resting_blood_pressure   1025 non-null   int64  \n",
      " 4   cholesterol              1025 non-null   int64  \n",
      " 5   fasting_blood_sugar      1025 non-null   int64  \n",
      " 6   rest_ecg                 1025 non-null   int64  \n",
      " 7   max_heart_rate_achieved  1025 non-null   int64  \n",
      " 8   exercise_induced_angina  1025 non-null   int64  \n",
      " 9   st_depression            1025 non-null   float64\n",
      " 10  st_slope                 1025 non-null   int64  \n",
      " 11  num_major_vessels        1025 non-null   int64  \n",
      " 12  thalassemia              1025 non-null   int64  \n",
      " 13  target                   1025 non-null   int64  \n",
      "dtypes: float64(1), int64(13)\n",
      "memory usage: 112.2 KB\n"
     ]
    }
   ],
   "source": [
    "df.info()"
   ]
  },
  {
   "cell_type": "code",
   "execution_count": 8,
   "id": "3f0b5651",
   "metadata": {},
   "outputs": [
    {
     "name": "stderr",
     "output_type": "stream",
     "text": [
      "C:\\Users\\hiram\\AppData\\Local\\Temp\\ipykernel_14556\\4065037090.py:1: SettingWithCopyWarning: \n",
      "A value is trying to be set on a copy of a slice from a DataFrame\n",
      "\n",
      "See the caveats in the documentation: https://pandas.pydata.org/pandas-docs/stable/user_guide/indexing.html#returning-a-view-versus-a-copy\n",
      "  df['sex'][df['sex'] == 0] = 'female'\n",
      "C:\\Users\\hiram\\AppData\\Local\\Temp\\ipykernel_14556\\4065037090.py:4: SettingWithCopyWarning: \n",
      "A value is trying to be set on a copy of a slice from a DataFrame\n",
      "\n",
      "See the caveats in the documentation: https://pandas.pydata.org/pandas-docs/stable/user_guide/indexing.html#returning-a-view-versus-a-copy\n",
      "  df['chest_pain_type'][df['chest_pain_type'] == 1] = 'typical angina'\n",
      "C:\\Users\\hiram\\AppData\\Local\\Temp\\ipykernel_14556\\4065037090.py:9: SettingWithCopyWarning: \n",
      "A value is trying to be set on a copy of a slice from a DataFrame\n",
      "\n",
      "See the caveats in the documentation: https://pandas.pydata.org/pandas-docs/stable/user_guide/indexing.html#returning-a-view-versus-a-copy\n",
      "  df['fasting_blood_sugar'][df['fasting_blood_sugar'] ==0] = 'lower than 120mg/ml'\n",
      "C:\\Users\\hiram\\AppData\\Local\\Temp\\ipykernel_14556\\4065037090.py:12: SettingWithCopyWarning: \n",
      "A value is trying to be set on a copy of a slice from a DataFrame\n",
      "\n",
      "See the caveats in the documentation: https://pandas.pydata.org/pandas-docs/stable/user_guide/indexing.html#returning-a-view-versus-a-copy\n",
      "  df['exercise_induced_angina'][df['exercise_induced_angina'] == 0] = 'no'\n",
      "C:\\Users\\hiram\\AppData\\Local\\Temp\\ipykernel_14556\\4065037090.py:15: SettingWithCopyWarning: \n",
      "A value is trying to be set on a copy of a slice from a DataFrame\n",
      "\n",
      "See the caveats in the documentation: https://pandas.pydata.org/pandas-docs/stable/user_guide/indexing.html#returning-a-view-versus-a-copy\n",
      "  df['st_slope'][df['st_slope'] == 1] = 'upsloping'\n",
      "C:\\Users\\hiram\\AppData\\Local\\Temp\\ipykernel_14556\\4065037090.py:19: SettingWithCopyWarning: \n",
      "A value is trying to be set on a copy of a slice from a DataFrame\n",
      "\n",
      "See the caveats in the documentation: https://pandas.pydata.org/pandas-docs/stable/user_guide/indexing.html#returning-a-view-versus-a-copy\n",
      "  df['thalassemia'][df['thalassemia']==1]= 'normal'\n"
     ]
    }
   ],
   "source": [
    "df['sex'][df['sex'] == 0] = 'female'\n",
    "df['sex'][df['sex'] == 1] = 'male'\n",
    "\n",
    "df['chest_pain_type'][df['chest_pain_type'] == 1] = 'typical angina'\n",
    "df['chest_pain_type'][df['chest_pain_type'] == 2] = 'atypical angina'\n",
    "df['chest_pain_type'][df['chest_pain_type'] == 3] = 'non-anginal pain'\n",
    "df['chest_pain_type'][df['chest_pain_type'] == 4] = 'asymptomatic'\n",
    "\n",
    "df['fasting_blood_sugar'][df['fasting_blood_sugar'] ==0] = 'lower than 120mg/ml'\n",
    "df['fasting_blood_sugar'][df['fasting_blood_sugar'] ==1] = 'greater than 120mg/ml'\n",
    "\n",
    "df['exercise_induced_angina'][df['exercise_induced_angina'] == 0] = 'no'\n",
    "df['exercise_induced_angina'][df['exercise_induced_angina'] == 1] = 'yes'\n",
    "\n",
    "df['st_slope'][df['st_slope'] == 1] = 'upsloping'\n",
    "df['st_slope'][df['st_slope'] == 2] = 'flat'\n",
    "df['st_slope'][df['st_slope'] == 3] = 'downsloping'\n",
    "\n",
    "df['thalassemia'][df['thalassemia']==1]= 'normal'\n",
    "df['thalassemia'][df['thalassemia']==2] = 'fixed defect'\n",
    "df['thalassemia'][df['thalassemia']==3] = 'reversable defect'"
   ]
  },
  {
   "cell_type": "code",
   "execution_count": 9,
   "id": "4f0c5080",
   "metadata": {},
   "outputs": [
    {
     "data": {
      "text/plain": [
       "age                          int64\n",
       "sex                         object\n",
       "chest_pain_type             object\n",
       "resting_blood_pressure       int64\n",
       "cholesterol                  int64\n",
       "fasting_blood_sugar         object\n",
       "rest_ecg                     int64\n",
       "max_heart_rate_achieved      int64\n",
       "exercise_induced_angina     object\n",
       "st_depression              float64\n",
       "st_slope                    object\n",
       "num_major_vessels            int64\n",
       "thalassemia                 object\n",
       "target                       int64\n",
       "dtype: object"
      ]
     },
     "execution_count": 9,
     "metadata": {},
     "output_type": "execute_result"
    }
   ],
   "source": [
    "df.dtypes"
   ]
  },
  {
   "cell_type": "markdown",
   "id": "b9286fb9",
   "metadata": {},
   "source": [
    "## Categorical Variables"
   ]
  },
  {
   "cell_type": "code",
   "execution_count": 10,
   "id": "1fe87fd4",
   "metadata": {},
   "outputs": [],
   "source": [
    "obj_cats = ['sex', 'chest_pain_type', 'fasting_blood_sugar', 'exercise_induced_angina', 'st_slope', 'thalassemia']\n",
    "\n",
    "for colname in obj_cats:\n",
    "    df[colname] = df[colname].astype('category')"
   ]
  },
  {
   "cell_type": "code",
   "execution_count": 11,
   "id": "edf992b3",
   "metadata": {},
   "outputs": [
    {
     "name": "stdout",
     "output_type": "stream",
     "text": [
      "<class 'pandas.core.frame.DataFrame'>\n",
      "RangeIndex: 1025 entries, 0 to 1024\n",
      "Data columns (total 14 columns):\n",
      " #   Column                   Non-Null Count  Dtype   \n",
      "---  ------                   --------------  -----   \n",
      " 0   age                      1025 non-null   int64   \n",
      " 1   sex                      1025 non-null   category\n",
      " 2   chest_pain_type          1025 non-null   category\n",
      " 3   resting_blood_pressure   1025 non-null   int64   \n",
      " 4   cholesterol              1025 non-null   int64   \n",
      " 5   fasting_blood_sugar      1025 non-null   category\n",
      " 6   rest_ecg                 1025 non-null   int64   \n",
      " 7   max_heart_rate_achieved  1025 non-null   int64   \n",
      " 8   exercise_induced_angina  1025 non-null   category\n",
      " 9   st_depression            1025 non-null   float64 \n",
      " 10  st_slope                 1025 non-null   category\n",
      " 11  num_major_vessels        1025 non-null   int64   \n",
      " 12  thalassemia              1025 non-null   category\n",
      " 13  target                   1025 non-null   int64   \n",
      "dtypes: category(6), float64(1), int64(7)\n",
      "memory usage: 71.1 KB\n"
     ]
    }
   ],
   "source": [
    "df.info()"
   ]
  },
  {
   "cell_type": "markdown",
   "id": "486b3602",
   "metadata": {},
   "source": [
    "## Creating Dummies(One Hot Encoding)"
   ]
  },
  {
   "cell_type": "code",
   "execution_count": 12,
   "id": "c80455cc",
   "metadata": {},
   "outputs": [],
   "source": [
    "df = pd.get_dummies(df, drop_first = True)"
   ]
  },
  {
   "cell_type": "code",
   "execution_count": 13,
   "id": "1837859b",
   "metadata": {},
   "outputs": [
    {
     "data": {
      "text/html": [
       "<div>\n",
       "<style scoped>\n",
       "    .dataframe tbody tr th:only-of-type {\n",
       "        vertical-align: middle;\n",
       "    }\n",
       "\n",
       "    .dataframe tbody tr th {\n",
       "        vertical-align: top;\n",
       "    }\n",
       "\n",
       "    .dataframe thead th {\n",
       "        text-align: right;\n",
       "    }\n",
       "</style>\n",
       "<table border=\"1\" class=\"dataframe\">\n",
       "  <thead>\n",
       "    <tr style=\"text-align: right;\">\n",
       "      <th></th>\n",
       "      <th>age</th>\n",
       "      <th>resting_blood_pressure</th>\n",
       "      <th>cholesterol</th>\n",
       "      <th>rest_ecg</th>\n",
       "      <th>max_heart_rate_achieved</th>\n",
       "      <th>st_depression</th>\n",
       "      <th>num_major_vessels</th>\n",
       "      <th>target</th>\n",
       "      <th>sex_male</th>\n",
       "      <th>chest_pain_type_atypical angina</th>\n",
       "      <th>chest_pain_type_non-anginal pain</th>\n",
       "      <th>chest_pain_type_typical angina</th>\n",
       "      <th>fasting_blood_sugar_lower than 120mg/ml</th>\n",
       "      <th>exercise_induced_angina_yes</th>\n",
       "      <th>st_slope_flat</th>\n",
       "      <th>st_slope_upsloping</th>\n",
       "      <th>thalassemia_fixed defect</th>\n",
       "      <th>thalassemia_normal</th>\n",
       "      <th>thalassemia_reversable defect</th>\n",
       "    </tr>\n",
       "  </thead>\n",
       "  <tbody>\n",
       "    <tr>\n",
       "      <th>0</th>\n",
       "      <td>52</td>\n",
       "      <td>125</td>\n",
       "      <td>212</td>\n",
       "      <td>1</td>\n",
       "      <td>168</td>\n",
       "      <td>1.0</td>\n",
       "      <td>2</td>\n",
       "      <td>0</td>\n",
       "      <td>1</td>\n",
       "      <td>0</td>\n",
       "      <td>0</td>\n",
       "      <td>0</td>\n",
       "      <td>1</td>\n",
       "      <td>0</td>\n",
       "      <td>1</td>\n",
       "      <td>0</td>\n",
       "      <td>0</td>\n",
       "      <td>0</td>\n",
       "      <td>1</td>\n",
       "    </tr>\n",
       "    <tr>\n",
       "      <th>1</th>\n",
       "      <td>53</td>\n",
       "      <td>140</td>\n",
       "      <td>203</td>\n",
       "      <td>0</td>\n",
       "      <td>155</td>\n",
       "      <td>3.1</td>\n",
       "      <td>0</td>\n",
       "      <td>0</td>\n",
       "      <td>1</td>\n",
       "      <td>0</td>\n",
       "      <td>0</td>\n",
       "      <td>0</td>\n",
       "      <td>0</td>\n",
       "      <td>1</td>\n",
       "      <td>0</td>\n",
       "      <td>0</td>\n",
       "      <td>0</td>\n",
       "      <td>0</td>\n",
       "      <td>1</td>\n",
       "    </tr>\n",
       "    <tr>\n",
       "      <th>2</th>\n",
       "      <td>70</td>\n",
       "      <td>145</td>\n",
       "      <td>174</td>\n",
       "      <td>1</td>\n",
       "      <td>125</td>\n",
       "      <td>2.6</td>\n",
       "      <td>0</td>\n",
       "      <td>0</td>\n",
       "      <td>1</td>\n",
       "      <td>0</td>\n",
       "      <td>0</td>\n",
       "      <td>0</td>\n",
       "      <td>1</td>\n",
       "      <td>1</td>\n",
       "      <td>0</td>\n",
       "      <td>0</td>\n",
       "      <td>0</td>\n",
       "      <td>0</td>\n",
       "      <td>1</td>\n",
       "    </tr>\n",
       "    <tr>\n",
       "      <th>3</th>\n",
       "      <td>61</td>\n",
       "      <td>148</td>\n",
       "      <td>203</td>\n",
       "      <td>1</td>\n",
       "      <td>161</td>\n",
       "      <td>0.0</td>\n",
       "      <td>1</td>\n",
       "      <td>0</td>\n",
       "      <td>1</td>\n",
       "      <td>0</td>\n",
       "      <td>0</td>\n",
       "      <td>0</td>\n",
       "      <td>1</td>\n",
       "      <td>0</td>\n",
       "      <td>1</td>\n",
       "      <td>0</td>\n",
       "      <td>0</td>\n",
       "      <td>0</td>\n",
       "      <td>1</td>\n",
       "    </tr>\n",
       "    <tr>\n",
       "      <th>4</th>\n",
       "      <td>62</td>\n",
       "      <td>138</td>\n",
       "      <td>294</td>\n",
       "      <td>1</td>\n",
       "      <td>106</td>\n",
       "      <td>1.9</td>\n",
       "      <td>3</td>\n",
       "      <td>0</td>\n",
       "      <td>0</td>\n",
       "      <td>0</td>\n",
       "      <td>0</td>\n",
       "      <td>0</td>\n",
       "      <td>0</td>\n",
       "      <td>0</td>\n",
       "      <td>0</td>\n",
       "      <td>1</td>\n",
       "      <td>1</td>\n",
       "      <td>0</td>\n",
       "      <td>0</td>\n",
       "    </tr>\n",
       "  </tbody>\n",
       "</table>\n",
       "</div>"
      ],
      "text/plain": [
       "   age  resting_blood_pressure  cholesterol  rest_ecg  \\\n",
       "0   52                     125          212         1   \n",
       "1   53                     140          203         0   \n",
       "2   70                     145          174         1   \n",
       "3   61                     148          203         1   \n",
       "4   62                     138          294         1   \n",
       "\n",
       "   max_heart_rate_achieved  st_depression  num_major_vessels  target  \\\n",
       "0                      168            1.0                  2       0   \n",
       "1                      155            3.1                  0       0   \n",
       "2                      125            2.6                  0       0   \n",
       "3                      161            0.0                  1       0   \n",
       "4                      106            1.9                  3       0   \n",
       "\n",
       "   sex_male  chest_pain_type_atypical angina  \\\n",
       "0         1                                0   \n",
       "1         1                                0   \n",
       "2         1                                0   \n",
       "3         1                                0   \n",
       "4         0                                0   \n",
       "\n",
       "   chest_pain_type_non-anginal pain  chest_pain_type_typical angina  \\\n",
       "0                                 0                               0   \n",
       "1                                 0                               0   \n",
       "2                                 0                               0   \n",
       "3                                 0                               0   \n",
       "4                                 0                               0   \n",
       "\n",
       "   fasting_blood_sugar_lower than 120mg/ml  exercise_induced_angina_yes  \\\n",
       "0                                        1                            0   \n",
       "1                                        0                            1   \n",
       "2                                        1                            1   \n",
       "3                                        1                            0   \n",
       "4                                        0                            0   \n",
       "\n",
       "   st_slope_flat  st_slope_upsloping  thalassemia_fixed defect  \\\n",
       "0              1                   0                         0   \n",
       "1              0                   0                         0   \n",
       "2              0                   0                         0   \n",
       "3              1                   0                         0   \n",
       "4              0                   1                         1   \n",
       "\n",
       "   thalassemia_normal  thalassemia_reversable defect  \n",
       "0                   0                              1  \n",
       "1                   0                              1  \n",
       "2                   0                              1  \n",
       "3                   0                              1  \n",
       "4                   0                              0  "
      ]
     },
     "execution_count": 13,
     "metadata": {},
     "output_type": "execute_result"
    }
   ],
   "source": [
    "df.head()"
   ]
  },
  {
   "cell_type": "code",
   "execution_count": 14,
   "id": "0551cae2",
   "metadata": {},
   "outputs": [
    {
     "data": {
      "image/png": "[encoded data removed]",
      "text/plain": [
       "<Figure size 432x288 with 1 Axes>"
      ]
     },
     "metadata": {
      "needs_background": "light"
     },
     "output_type": "display_data"
    }
   ],
   "source": [
    "sns.countplot(x='target', data=df, palette='bwr')\n",
    "plt.show()"
   ]
  },
  {
   "cell_type": "markdown",
   "id": "96c05c04",
   "metadata": {},
   "source": [
    "## Defining Attributes and Target Variable"
   ]
  },
  {
   "cell_type": "code",
   "execution_count": 15,
   "id": "02ea88ce",
   "metadata": {},
   "outputs": [],
   "source": [
    "X = df.drop(['target'], axis=1)\n",
    "y = df['target']"
   ]
  },
  {
   "cell_type": "markdown",
   "id": "ddef9064",
   "metadata": {},
   "source": [
    "## Splitting the data into Train and Test data"
   ]
  },
  {
   "cell_type": "code",
   "execution_count": 16,
   "id": "35f9a314",
   "metadata": {},
   "outputs": [],
   "source": [
    "x_train, x_test, y_train, y_test = train_test_split(\n",
    "    X, y, test_size=0.25, random_state=42)"
   ]
  },
  {
   "cell_type": "markdown",
   "id": "304bf856",
   "metadata": {},
   "source": [
    "## Creating the object for the model"
   ]
  },
  {
   "cell_type": "code",
   "execution_count": 17,
   "id": "adeb42fc",
   "metadata": {},
   "outputs": [],
   "source": [
    "dtc = DecisionTreeClassifier()"
   ]
  },
  {
   "cell_type": "markdown",
   "id": "f21b435e",
   "metadata": {},
   "source": [
    "## Fitting the data to the object"
   ]
  },
  {
   "cell_type": "code",
   "execution_count": 18,
   "id": "022b5ce1",
   "metadata": {},
   "outputs": [
    {
     "data": {
      "text/html": [
       "<style>#sk-container-id-1 {color: black;background-color: white;}#sk-container-id-1 pre{padding: 0;}#sk-container-id-1 div.sk-toggleable {background-color: white;}#sk-container-id-1 label.sk-toggleable__label {cursor: pointer;display: block;width: 100%;margin-bottom: 0;padding: 0.3em;box-sizing: border-box;text-align: center;}#sk-container-id-1 label.sk-toggleable__label-arrow:before {content: \"▸\";float: left;margin-right: 0.25em;color: #696969;}#sk-container-id-1 label.sk-toggleable__label-arrow:hover:before {color: black;}#sk-container-id-1 div.sk-estimator:hover label.sk-toggleable__label-arrow:before {color: black;}#sk-container-id-1 div.sk-toggleable__content {max-height: 0;max-width: 0;overflow: hidden;text-align: left;background-color: #f0f8ff;}#sk-container-id-1 div.sk-toggleable__content pre {margin: 0.2em;color: black;border-radius: 0.25em;background-color: #f0f8ff;}#sk-container-id-1 input.sk-toggleable__control:checked~div.sk-toggleable__content {max-height: 200px;max-width: 100%;overflow: auto;}#sk-container-id-1 input.sk-toggleable__control:checked~label.sk-toggleable__label-arrow:before {content: \"▾\";}#sk-container-id-1 div.sk-estimator input.sk-toggleable__control:checked~label.sk-toggleable__label {background-color: #d4ebff;}#sk-container-id-1 div.sk-label input.sk-toggleable__control:checked~label.sk-toggleable__label {background-color: #d4ebff;}#sk-container-id-1 input.sk-hidden--visually {border: 0;clip: rect(1px 1px 1px 1px);clip: rect(1px, 1px, 1px, 1px);height: 1px;margin: -1px;overflow: hidden;padding: 0;position: absolute;width: 1px;}#sk-container-id-1 div.sk-estimator {font-family: monospace;background-color: #f0f8ff;border: 1px dotted black;border-radius: 0.25em;box-sizing: border-box;margin-bottom: 0.5em;}#sk-container-id-1 div.sk-estimator:hover {background-color: #d4ebff;}#sk-container-id-1 div.sk-parallel-item::after {content: \"\";width: 100%;border-bottom: 1px solid gray;flex-grow: 1;}#sk-container-id-1 div.sk-label:hover label.sk-toggleable__label {background-color: #d4ebff;}#sk-container-id-1 div.sk-serial::before {content: \"\";position: absolute;border-left: 1px solid gray;box-sizing: border-box;top: 0;bottom: 0;left: 50%;z-index: 0;}#sk-container-id-1 div.sk-serial {display: flex;flex-direction: column;align-items: center;background-color: white;padding-right: 0.2em;padding-left: 0.2em;position: relative;}#sk-container-id-1 div.sk-item {position: relative;z-index: 1;}#sk-container-id-1 div.sk-parallel {display: flex;align-items: stretch;justify-content: center;background-color: white;position: relative;}#sk-container-id-1 div.sk-item::before, #sk-container-id-1 div.sk-parallel-item::before {content: \"\";position: absolute;border-left: 1px solid gray;box-sizing: border-box;top: 0;bottom: 0;left: 50%;z-index: -1;}#sk-container-id-1 div.sk-parallel-item {display: flex;flex-direction: column;z-index: 1;position: relative;background-color: white;}#sk-container-id-1 div.sk-parallel-item:first-child::after {align-self: flex-end;width: 50%;}#sk-container-id-1 div.sk-parallel-item:last-child::after {align-self: flex-start;width: 50%;}#sk-container-id-1 div.sk-parallel-item:only-child::after {width: 0;}#sk-container-id-1 div.sk-dashed-wrapped {border: 1px dashed gray;margin: 0 0.4em 0.5em 0.4em;box-sizing: border-box;padding-bottom: 0.4em;background-color: white;}#sk-container-id-1 div.sk-label label {font-family: monospace;font-weight: bold;display: inline-block;line-height: 1.2em;}#sk-container-id-1 div.sk-label-container {text-align: center;}#sk-container-id-1 div.sk-container {/* jupyter's `normalize.less` sets `[hidden] { display: none; }` but bootstrap.min.css set `[hidden] { display: none !important; }` so we also need the `!important` here to be able to override the default hidden behavior on the sphinx rendered scikit-learn.org. See: https://github.com/scikit-learn/scikit-learn/issues/21755 */display: inline-block !important;position: relative;}#sk-container-id-1 div.sk-text-repr-fallback {display: none;}</style><div id=\"sk-container-id-1\" class=\"sk-top-container\"><div class=\"sk-text-repr-fallback\"><pre>DecisionTreeClassifier()</pre><b>In a Jupyter environment, please rerun this cell to show the HTML representation or trust the notebook. <br />On GitHub, the HTML representation is unable to render, please try loading this page with nbviewer.org.</b></div><div class=\"sk-container\" hidden><div class=\"sk-item\"><div class=\"sk-estimator sk-toggleable\"><input class=\"sk-toggleable__control sk-hidden--visually\" id=\"sk-estimator-id-1\" type=\"checkbox\" checked><label for=\"sk-estimator-id-1\" class=\"sk-toggleable__label sk-toggleable__label-arrow\">DecisionTreeClassifier</label><div class=\"sk-toggleable__content\"><pre>DecisionTreeClassifier()</pre></div></div></div></div></div>"
      ],
      "text/plain": [
       "DecisionTreeClassifier()"
      ]
     },
     "execution_count": 18,
     "metadata": {},
     "output_type": "execute_result"
    }
   ],
   "source": [
    "dtc.fit(x_train, y_train)"
   ]
  },
  {
   "cell_type": "markdown",
   "id": "a43967c4",
   "metadata": {},
   "source": [
    "## Predictions on Test data"
   ]
  },
  {
   "cell_type": "code",
   "execution_count": 19,
   "id": "bccbbaa7",
   "metadata": {},
   "outputs": [],
   "source": [
    "y_pred = dtc.predict(x_test)"
   ]
  },
  {
   "cell_type": "markdown",
   "id": "02b27f6f",
   "metadata": {},
   "source": [
    "## Checking Confusion Matrix"
   ]
  },
  {
   "cell_type": "code",
   "execution_count": 20,
   "id": "b9d49a9a",
   "metadata": {},
   "outputs": [],
   "source": [
    "cm = confusion_matrix(y_test, y_pred)"
   ]
  },
  {
   "cell_type": "markdown",
   "id": "38020f9a",
   "metadata": {},
   "source": [
    "## Checking Classification Report"
   ]
  },
  {
   "cell_type": "code",
   "execution_count": 21,
   "id": "8c69af30",
   "metadata": {},
   "outputs": [
    {
     "data": {
      "image/png": "[encoded data removed]",
      "text/plain": [
       "<Figure size 432x288 with 1 Axes>"
      ]
     },
     "metadata": {
      "needs_background": "light"
     },
     "output_type": "display_data"
    }
   ],
   "source": [
    "sns.heatmap(cm, annot=True, cmap='Blues', fmt='d', cbar=False, annot_kws={'size':12})\n",
    "plt.show()"
   ]
  },
  {
   "cell_type": "markdown",
   "id": "de7f030b",
   "metadata": {},
   "source": [
    "## Checking Classification Report"
   ]
  },
  {
   "cell_type": "code",
   "execution_count": 22,
   "id": "340ca35e",
   "metadata": {},
   "outputs": [
    {
     "name": "stdout",
     "output_type": "stream",
     "text": [
      "              precision    recall  f1-score   support\n",
      "\n",
      "           0       0.98      1.00      0.99       132\n",
      "           1       1.00      0.98      0.99       125\n",
      "\n",
      "    accuracy                           0.99       257\n",
      "   macro avg       0.99      0.99      0.99       257\n",
      "weighted avg       0.99      0.99      0.99       257\n",
      "\n"
     ]
    }
   ],
   "source": [
    "print(classification_report(y_test, y_pred))"
   ]
  },
  {
   "cell_type": "code",
   "execution_count": 23,
   "id": "79d900c0",
   "metadata": {},
   "outputs": [
    {
     "data": {
      "text/html": [
       "<div>\n",
       "<style scoped>\n",
       "    .dataframe tbody tr th:only-of-type {\n",
       "        vertical-align: middle;\n",
       "    }\n",
       "\n",
       "    .dataframe tbody tr th {\n",
       "        vertical-align: top;\n",
       "    }\n",
       "\n",
       "    .dataframe thead th {\n",
       "        text-align: right;\n",
       "    }\n",
       "</style>\n",
       "<table border=\"1\" class=\"dataframe\">\n",
       "  <thead>\n",
       "    <tr style=\"text-align: right;\">\n",
       "      <th></th>\n",
       "      <th>age</th>\n",
       "      <th>resting_blood_pressure</th>\n",
       "      <th>cholesterol</th>\n",
       "      <th>rest_ecg</th>\n",
       "      <th>max_heart_rate_achieved</th>\n",
       "      <th>st_depression</th>\n",
       "      <th>num_major_vessels</th>\n",
       "      <th>sex_male</th>\n",
       "      <th>chest_pain_type_atypical angina</th>\n",
       "      <th>chest_pain_type_non-anginal pain</th>\n",
       "      <th>chest_pain_type_typical angina</th>\n",
       "      <th>fasting_blood_sugar_lower than 120mg/ml</th>\n",
       "      <th>exercise_induced_angina_yes</th>\n",
       "      <th>st_slope_flat</th>\n",
       "      <th>st_slope_upsloping</th>\n",
       "      <th>thalassemia_fixed defect</th>\n",
       "      <th>thalassemia_normal</th>\n",
       "      <th>thalassemia_reversable defect</th>\n",
       "    </tr>\n",
       "  </thead>\n",
       "  <tbody>\n",
       "    <tr>\n",
       "      <th>527</th>\n",
       "      <td>62</td>\n",
       "      <td>124</td>\n",
       "      <td>209</td>\n",
       "      <td>1</td>\n",
       "      <td>163</td>\n",
       "      <td>0.0</td>\n",
       "      <td>0</td>\n",
       "      <td>0</td>\n",
       "      <td>0</td>\n",
       "      <td>0</td>\n",
       "      <td>0</td>\n",
       "      <td>1</td>\n",
       "      <td>0</td>\n",
       "      <td>1</td>\n",
       "      <td>0</td>\n",
       "      <td>1</td>\n",
       "      <td>0</td>\n",
       "      <td>0</td>\n",
       "    </tr>\n",
       "    <tr>\n",
       "      <th>359</th>\n",
       "      <td>53</td>\n",
       "      <td>128</td>\n",
       "      <td>216</td>\n",
       "      <td>0</td>\n",
       "      <td>115</td>\n",
       "      <td>0.0</td>\n",
       "      <td>0</td>\n",
       "      <td>0</td>\n",
       "      <td>1</td>\n",
       "      <td>0</td>\n",
       "      <td>0</td>\n",
       "      <td>1</td>\n",
       "      <td>0</td>\n",
       "      <td>1</td>\n",
       "      <td>0</td>\n",
       "      <td>0</td>\n",
       "      <td>0</td>\n",
       "      <td>0</td>\n",
       "    </tr>\n",
       "    <tr>\n",
       "      <th>447</th>\n",
       "      <td>55</td>\n",
       "      <td>160</td>\n",
       "      <td>289</td>\n",
       "      <td>0</td>\n",
       "      <td>145</td>\n",
       "      <td>0.8</td>\n",
       "      <td>1</td>\n",
       "      <td>1</td>\n",
       "      <td>0</td>\n",
       "      <td>0</td>\n",
       "      <td>0</td>\n",
       "      <td>1</td>\n",
       "      <td>1</td>\n",
       "      <td>0</td>\n",
       "      <td>1</td>\n",
       "      <td>0</td>\n",
       "      <td>0</td>\n",
       "      <td>1</td>\n",
       "    </tr>\n",
       "    <tr>\n",
       "      <th>31</th>\n",
       "      <td>50</td>\n",
       "      <td>120</td>\n",
       "      <td>244</td>\n",
       "      <td>1</td>\n",
       "      <td>162</td>\n",
       "      <td>1.1</td>\n",
       "      <td>0</td>\n",
       "      <td>0</td>\n",
       "      <td>0</td>\n",
       "      <td>0</td>\n",
       "      <td>1</td>\n",
       "      <td>1</td>\n",
       "      <td>0</td>\n",
       "      <td>1</td>\n",
       "      <td>0</td>\n",
       "      <td>1</td>\n",
       "      <td>0</td>\n",
       "      <td>0</td>\n",
       "    </tr>\n",
       "    <tr>\n",
       "      <th>621</th>\n",
       "      <td>48</td>\n",
       "      <td>130</td>\n",
       "      <td>256</td>\n",
       "      <td>0</td>\n",
       "      <td>150</td>\n",
       "      <td>0.0</td>\n",
       "      <td>2</td>\n",
       "      <td>1</td>\n",
       "      <td>0</td>\n",
       "      <td>0</td>\n",
       "      <td>0</td>\n",
       "      <td>0</td>\n",
       "      <td>1</td>\n",
       "      <td>1</td>\n",
       "      <td>0</td>\n",
       "      <td>0</td>\n",
       "      <td>0</td>\n",
       "      <td>1</td>\n",
       "    </tr>\n",
       "    <tr>\n",
       "      <th>...</th>\n",
       "      <td>...</td>\n",
       "      <td>...</td>\n",
       "      <td>...</td>\n",
       "      <td>...</td>\n",
       "      <td>...</td>\n",
       "      <td>...</td>\n",
       "      <td>...</td>\n",
       "      <td>...</td>\n",
       "      <td>...</td>\n",
       "      <td>...</td>\n",
       "      <td>...</td>\n",
       "      <td>...</td>\n",
       "      <td>...</td>\n",
       "      <td>...</td>\n",
       "      <td>...</td>\n",
       "      <td>...</td>\n",
       "      <td>...</td>\n",
       "      <td>...</td>\n",
       "    </tr>\n",
       "    <tr>\n",
       "      <th>940</th>\n",
       "      <td>57</td>\n",
       "      <td>140</td>\n",
       "      <td>241</td>\n",
       "      <td>1</td>\n",
       "      <td>123</td>\n",
       "      <td>0.2</td>\n",
       "      <td>0</td>\n",
       "      <td>0</td>\n",
       "      <td>0</td>\n",
       "      <td>0</td>\n",
       "      <td>0</td>\n",
       "      <td>1</td>\n",
       "      <td>1</td>\n",
       "      <td>0</td>\n",
       "      <td>1</td>\n",
       "      <td>0</td>\n",
       "      <td>0</td>\n",
       "      <td>1</td>\n",
       "    </tr>\n",
       "    <tr>\n",
       "      <th>787</th>\n",
       "      <td>51</td>\n",
       "      <td>140</td>\n",
       "      <td>298</td>\n",
       "      <td>1</td>\n",
       "      <td>122</td>\n",
       "      <td>4.2</td>\n",
       "      <td>3</td>\n",
       "      <td>1</td>\n",
       "      <td>0</td>\n",
       "      <td>0</td>\n",
       "      <td>0</td>\n",
       "      <td>1</td>\n",
       "      <td>1</td>\n",
       "      <td>0</td>\n",
       "      <td>1</td>\n",
       "      <td>0</td>\n",
       "      <td>0</td>\n",
       "      <td>1</td>\n",
       "    </tr>\n",
       "    <tr>\n",
       "      <th>926</th>\n",
       "      <td>54</td>\n",
       "      <td>110</td>\n",
       "      <td>206</td>\n",
       "      <td>0</td>\n",
       "      <td>108</td>\n",
       "      <td>0.0</td>\n",
       "      <td>1</td>\n",
       "      <td>1</td>\n",
       "      <td>0</td>\n",
       "      <td>0</td>\n",
       "      <td>0</td>\n",
       "      <td>1</td>\n",
       "      <td>1</td>\n",
       "      <td>0</td>\n",
       "      <td>1</td>\n",
       "      <td>1</td>\n",
       "      <td>0</td>\n",
       "      <td>0</td>\n",
       "    </tr>\n",
       "    <tr>\n",
       "      <th>249</th>\n",
       "      <td>42</td>\n",
       "      <td>130</td>\n",
       "      <td>180</td>\n",
       "      <td>1</td>\n",
       "      <td>150</td>\n",
       "      <td>0.0</td>\n",
       "      <td>0</td>\n",
       "      <td>1</td>\n",
       "      <td>1</td>\n",
       "      <td>0</td>\n",
       "      <td>0</td>\n",
       "      <td>1</td>\n",
       "      <td>0</td>\n",
       "      <td>1</td>\n",
       "      <td>0</td>\n",
       "      <td>1</td>\n",
       "      <td>0</td>\n",
       "      <td>0</td>\n",
       "    </tr>\n",
       "    <tr>\n",
       "      <th>552</th>\n",
       "      <td>43</td>\n",
       "      <td>132</td>\n",
       "      <td>341</td>\n",
       "      <td>0</td>\n",
       "      <td>136</td>\n",
       "      <td>3.0</td>\n",
       "      <td>0</td>\n",
       "      <td>0</td>\n",
       "      <td>0</td>\n",
       "      <td>0</td>\n",
       "      <td>0</td>\n",
       "      <td>0</td>\n",
       "      <td>1</td>\n",
       "      <td>0</td>\n",
       "      <td>1</td>\n",
       "      <td>0</td>\n",
       "      <td>0</td>\n",
       "      <td>1</td>\n",
       "    </tr>\n",
       "  </tbody>\n",
       "</table>\n",
       "<p>257 rows × 18 columns</p>\n",
       "</div>"
      ],
      "text/plain": [
       "     age  resting_blood_pressure  cholesterol  rest_ecg  \\\n",
       "527   62                     124          209         1   \n",
       "359   53                     128          216         0   \n",
       "447   55                     160          289         0   \n",
       "31    50                     120          244         1   \n",
       "621   48                     130          256         0   \n",
       "..   ...                     ...          ...       ...   \n",
       "940   57                     140          241         1   \n",
       "787   51                     140          298         1   \n",
       "926   54                     110          206         0   \n",
       "249   42                     130          180         1   \n",
       "552   43                     132          341         0   \n",
       "\n",
       "     max_heart_rate_achieved  st_depression  num_major_vessels  sex_male  \\\n",
       "527                      163            0.0                  0         0   \n",
       "359                      115            0.0                  0         0   \n",
       "447                      145            0.8                  1         1   \n",
       "31                       162            1.1                  0         0   \n",
       "621                      150            0.0                  2         1   \n",
       "..                       ...            ...                ...       ...   \n",
       "940                      123            0.2                  0         0   \n",
       "787                      122            4.2                  3         1   \n",
       "926                      108            0.0                  1         1   \n",
       "249                      150            0.0                  0         1   \n",
       "552                      136            3.0                  0         0   \n",
       "\n",
       "     chest_pain_type_atypical angina  chest_pain_type_non-anginal pain  \\\n",
       "527                                0                                 0   \n",
       "359                                1                                 0   \n",
       "447                                0                                 0   \n",
       "31                                 0                                 0   \n",
       "621                                0                                 0   \n",
       "..                               ...                               ...   \n",
       "940                                0                                 0   \n",
       "787                                0                                 0   \n",
       "926                                0                                 0   \n",
       "249                                1                                 0   \n",
       "552                                0                                 0   \n",
       "\n",
       "     chest_pain_type_typical angina  fasting_blood_sugar_lower than 120mg/ml  \\\n",
       "527                               0                                        1   \n",
       "359                               0                                        1   \n",
       "447                               0                                        1   \n",
       "31                                1                                        1   \n",
       "621                               0                                        0   \n",
       "..                              ...                                      ...   \n",
       "940                               0                                        1   \n",
       "787                               0                                        1   \n",
       "926                               0                                        1   \n",
       "249                               0                                        1   \n",
       "552                               0                                        0   \n",
       "\n",
       "     exercise_induced_angina_yes  st_slope_flat  st_slope_upsloping  \\\n",
       "527                            0              1                   0   \n",
       "359                            0              1                   0   \n",
       "447                            1              0                   1   \n",
       "31                             0              1                   0   \n",
       "621                            1              1                   0   \n",
       "..                           ...            ...                 ...   \n",
       "940                            1              0                   1   \n",
       "787                            1              0                   1   \n",
       "926                            1              0                   1   \n",
       "249                            0              1                   0   \n",
       "552                            1              0                   1   \n",
       "\n",
       "     thalassemia_fixed defect  thalassemia_normal  \\\n",
       "527                         1                   0   \n",
       "359                         0                   0   \n",
       "447                         0                   0   \n",
       "31                          1                   0   \n",
       "621                         0                   0   \n",
       "..                        ...                 ...   \n",
       "940                         0                   0   \n",
       "787                         0                   0   \n",
       "926                         1                   0   \n",
       "249                         1                   0   \n",
       "552                         0                   0   \n",
       "\n",
       "     thalassemia_reversable defect  \n",
       "527                              0  \n",
       "359                              0  \n",
       "447                              1  \n",
       "31                               0  \n",
       "621                              1  \n",
       "..                             ...  \n",
       "940                              1  \n",
       "787                              1  \n",
       "926                              0  \n",
       "249                              0  \n",
       "552                              1  \n",
       "\n",
       "[257 rows x 18 columns]"
      ]
     },
     "execution_count": 23,
     "metadata": {},
     "output_type": "execute_result"
    }
   ],
   "source": [
    "x_test"
   ]
  },
  {
   "cell_type": "code",
   "execution_count": 24,
   "id": "447dfc34",
   "metadata": {},
   "outputs": [
    {
     "data": {
      "text/plain": [
       "array([1, 1, 0, 1, 0, 1, 0, 0, 1, 0, 1, 0, 1, 1, 0, 0, 0, 1, 1, 0, 1, 0,\n",
       "       0, 0, 1, 1, 1, 1, 0, 0, 0, 1, 0, 1, 1, 1, 1, 1, 1, 1, 0, 0, 1, 0,\n",
       "       0, 0, 0, 0, 0, 1, 1, 0, 0, 0, 1, 1, 0, 0, 0, 1, 1, 1, 0, 1, 0, 0,\n",
       "       1, 0, 0, 1, 0, 0, 0, 1, 1, 1, 0, 0, 0, 1, 0, 0, 0, 0, 1, 0, 1, 0,\n",
       "       0, 0, 0, 0, 1, 1, 1, 1, 0, 0, 0, 0, 0, 0, 0, 1, 0, 1, 0, 1, 0, 1,\n",
       "       0, 1, 1, 0, 1, 1, 0, 1, 1, 0, 1, 1, 0, 0, 1, 0, 1, 0, 0, 1, 1, 0,\n",
       "       1, 0, 0, 1, 0, 1, 1, 0, 1, 1, 1, 1, 1, 1, 1, 1, 0, 0, 0, 0, 1, 1,\n",
       "       0, 0, 0, 1, 0, 0, 1, 1, 0, 0, 1, 1, 0, 0, 1, 1, 0, 1, 1, 0, 1, 1,\n",
       "       1, 0, 0, 1, 1, 0, 1, 0, 1, 1, 1, 0, 1, 1, 1, 0, 0, 0, 0, 1, 0, 0,\n",
       "       1, 1, 1, 1, 1, 0, 0, 0, 1, 1, 1, 1, 1, 0, 1, 0, 0, 0, 0, 0, 1, 0,\n",
       "       1, 0, 0, 1, 1, 1, 1, 1, 0, 1, 0, 0, 0, 0, 0, 0, 0, 0, 1, 0, 1, 0,\n",
       "       1, 0, 0, 1, 0, 0, 1, 0, 1, 0, 0, 0, 0, 1, 0], dtype=int64)"
      ]
     },
     "execution_count": 24,
     "metadata": {},
     "output_type": "execute_result"
    }
   ],
   "source": [
    "y_pred"
   ]
  },
  {
   "cell_type": "code",
   "execution_count": 25,
   "id": "65c2b609",
   "metadata": {},
   "outputs": [
    {
     "data": {
      "text/plain": [
       "527    1\n",
       "359    1\n",
       "447    0\n",
       "31     1\n",
       "621    0\n",
       "      ..\n",
       "940    0\n",
       "787    0\n",
       "926    0\n",
       "249    1\n",
       "552    0\n",
       "Name: target, Length: 257, dtype: int64"
      ]
     },
     "execution_count": 25,
     "metadata": {},
     "output_type": "execute_result"
    }
   ],
   "source": [
    "y_test"
   ]
  },
  {
   "cell_type": "code",
   "execution_count": 26,
   "id": "fdf66ee7",
   "metadata": {},
   "outputs": [
    {
     "data": {
      "text/html": [
       "<div>\n",
       "<style scoped>\n",
       "    .dataframe tbody tr th:only-of-type {\n",
       "        vertical-align: middle;\n",
       "    }\n",
       "\n",
       "    .dataframe tbody tr th {\n",
       "        vertical-align: top;\n",
       "    }\n",
       "\n",
       "    .dataframe thead th {\n",
       "        text-align: right;\n",
       "    }\n",
       "</style>\n",
       "<table border=\"1\" class=\"dataframe\">\n",
       "  <thead>\n",
       "    <tr style=\"text-align: right;\">\n",
       "      <th></th>\n",
       "      <th>age</th>\n",
       "      <th>resting_blood_pressure</th>\n",
       "      <th>cholesterol</th>\n",
       "      <th>rest_ecg</th>\n",
       "      <th>max_heart_rate_achieved</th>\n",
       "      <th>st_depression</th>\n",
       "      <th>num_major_vessels</th>\n",
       "      <th>sex_male</th>\n",
       "      <th>chest_pain_type_atypical angina</th>\n",
       "      <th>chest_pain_type_non-anginal pain</th>\n",
       "      <th>chest_pain_type_typical angina</th>\n",
       "      <th>fasting_blood_sugar_lower than 120mg/ml</th>\n",
       "      <th>exercise_induced_angina_yes</th>\n",
       "      <th>st_slope_flat</th>\n",
       "      <th>st_slope_upsloping</th>\n",
       "      <th>thalassemia_fixed defect</th>\n",
       "      <th>thalassemia_normal</th>\n",
       "      <th>thalassemia_reversable defect</th>\n",
       "    </tr>\n",
       "  </thead>\n",
       "  <tbody>\n",
       "    <tr>\n",
       "      <th>527</th>\n",
       "      <td>62</td>\n",
       "      <td>124</td>\n",
       "      <td>209</td>\n",
       "      <td>1</td>\n",
       "      <td>163</td>\n",
       "      <td>0.0</td>\n",
       "      <td>0</td>\n",
       "      <td>0</td>\n",
       "      <td>0</td>\n",
       "      <td>0</td>\n",
       "      <td>0</td>\n",
       "      <td>1</td>\n",
       "      <td>0</td>\n",
       "      <td>1</td>\n",
       "      <td>0</td>\n",
       "      <td>1</td>\n",
       "      <td>0</td>\n",
       "      <td>0</td>\n",
       "    </tr>\n",
       "    <tr>\n",
       "      <th>359</th>\n",
       "      <td>53</td>\n",
       "      <td>128</td>\n",
       "      <td>216</td>\n",
       "      <td>0</td>\n",
       "      <td>115</td>\n",
       "      <td>0.0</td>\n",
       "      <td>0</td>\n",
       "      <td>0</td>\n",
       "      <td>1</td>\n",
       "      <td>0</td>\n",
       "      <td>0</td>\n",
       "      <td>1</td>\n",
       "      <td>0</td>\n",
       "      <td>1</td>\n",
       "      <td>0</td>\n",
       "      <td>0</td>\n",
       "      <td>0</td>\n",
       "      <td>0</td>\n",
       "    </tr>\n",
       "    <tr>\n",
       "      <th>447</th>\n",
       "      <td>55</td>\n",
       "      <td>160</td>\n",
       "      <td>289</td>\n",
       "      <td>0</td>\n",
       "      <td>145</td>\n",
       "      <td>0.8</td>\n",
       "      <td>1</td>\n",
       "      <td>1</td>\n",
       "      <td>0</td>\n",
       "      <td>0</td>\n",
       "      <td>0</td>\n",
       "      <td>1</td>\n",
       "      <td>1</td>\n",
       "      <td>0</td>\n",
       "      <td>1</td>\n",
       "      <td>0</td>\n",
       "      <td>0</td>\n",
       "      <td>1</td>\n",
       "    </tr>\n",
       "    <tr>\n",
       "      <th>31</th>\n",
       "      <td>50</td>\n",
       "      <td>120</td>\n",
       "      <td>244</td>\n",
       "      <td>1</td>\n",
       "      <td>162</td>\n",
       "      <td>1.1</td>\n",
       "      <td>0</td>\n",
       "      <td>0</td>\n",
       "      <td>0</td>\n",
       "      <td>0</td>\n",
       "      <td>1</td>\n",
       "      <td>1</td>\n",
       "      <td>0</td>\n",
       "      <td>1</td>\n",
       "      <td>0</td>\n",
       "      <td>1</td>\n",
       "      <td>0</td>\n",
       "      <td>0</td>\n",
       "    </tr>\n",
       "    <tr>\n",
       "      <th>621</th>\n",
       "      <td>48</td>\n",
       "      <td>130</td>\n",
       "      <td>256</td>\n",
       "      <td>0</td>\n",
       "      <td>150</td>\n",
       "      <td>0.0</td>\n",
       "      <td>2</td>\n",
       "      <td>1</td>\n",
       "      <td>0</td>\n",
       "      <td>0</td>\n",
       "      <td>0</td>\n",
       "      <td>0</td>\n",
       "      <td>1</td>\n",
       "      <td>1</td>\n",
       "      <td>0</td>\n",
       "      <td>0</td>\n",
       "      <td>0</td>\n",
       "      <td>1</td>\n",
       "    </tr>\n",
       "    <tr>\n",
       "      <th>...</th>\n",
       "      <td>...</td>\n",
       "      <td>...</td>\n",
       "      <td>...</td>\n",
       "      <td>...</td>\n",
       "      <td>...</td>\n",
       "      <td>...</td>\n",
       "      <td>...</td>\n",
       "      <td>...</td>\n",
       "      <td>...</td>\n",
       "      <td>...</td>\n",
       "      <td>...</td>\n",
       "      <td>...</td>\n",
       "      <td>...</td>\n",
       "      <td>...</td>\n",
       "      <td>...</td>\n",
       "      <td>...</td>\n",
       "      <td>...</td>\n",
       "      <td>...</td>\n",
       "    </tr>\n",
       "    <tr>\n",
       "      <th>940</th>\n",
       "      <td>57</td>\n",
       "      <td>140</td>\n",
       "      <td>241</td>\n",
       "      <td>1</td>\n",
       "      <td>123</td>\n",
       "      <td>0.2</td>\n",
       "      <td>0</td>\n",
       "      <td>0</td>\n",
       "      <td>0</td>\n",
       "      <td>0</td>\n",
       "      <td>0</td>\n",
       "      <td>1</td>\n",
       "      <td>1</td>\n",
       "      <td>0</td>\n",
       "      <td>1</td>\n",
       "      <td>0</td>\n",
       "      <td>0</td>\n",
       "      <td>1</td>\n",
       "    </tr>\n",
       "    <tr>\n",
       "      <th>787</th>\n",
       "      <td>51</td>\n",
       "      <td>140</td>\n",
       "      <td>298</td>\n",
       "      <td>1</td>\n",
       "      <td>122</td>\n",
       "      <td>4.2</td>\n",
       "      <td>3</td>\n",
       "      <td>1</td>\n",
       "      <td>0</td>\n",
       "      <td>0</td>\n",
       "      <td>0</td>\n",
       "      <td>1</td>\n",
       "      <td>1</td>\n",
       "      <td>0</td>\n",
       "      <td>1</td>\n",
       "      <td>0</td>\n",
       "      <td>0</td>\n",
       "      <td>1</td>\n",
       "    </tr>\n",
       "    <tr>\n",
       "      <th>926</th>\n",
       "      <td>54</td>\n",
       "      <td>110</td>\n",
       "      <td>206</td>\n",
       "      <td>0</td>\n",
       "      <td>108</td>\n",
       "      <td>0.0</td>\n",
       "      <td>1</td>\n",
       "      <td>1</td>\n",
       "      <td>0</td>\n",
       "      <td>0</td>\n",
       "      <td>0</td>\n",
       "      <td>1</td>\n",
       "      <td>1</td>\n",
       "      <td>0</td>\n",
       "      <td>1</td>\n",
       "      <td>1</td>\n",
       "      <td>0</td>\n",
       "      <td>0</td>\n",
       "    </tr>\n",
       "    <tr>\n",
       "      <th>249</th>\n",
       "      <td>42</td>\n",
       "      <td>130</td>\n",
       "      <td>180</td>\n",
       "      <td>1</td>\n",
       "      <td>150</td>\n",
       "      <td>0.0</td>\n",
       "      <td>0</td>\n",
       "      <td>1</td>\n",
       "      <td>1</td>\n",
       "      <td>0</td>\n",
       "      <td>0</td>\n",
       "      <td>1</td>\n",
       "      <td>0</td>\n",
       "      <td>1</td>\n",
       "      <td>0</td>\n",
       "      <td>1</td>\n",
       "      <td>0</td>\n",
       "      <td>0</td>\n",
       "    </tr>\n",
       "    <tr>\n",
       "      <th>552</th>\n",
       "      <td>43</td>\n",
       "      <td>132</td>\n",
       "      <td>341</td>\n",
       "      <td>0</td>\n",
       "      <td>136</td>\n",
       "      <td>3.0</td>\n",
       "      <td>0</td>\n",
       "      <td>0</td>\n",
       "      <td>0</td>\n",
       "      <td>0</td>\n",
       "      <td>0</td>\n",
       "      <td>0</td>\n",
       "      <td>1</td>\n",
       "      <td>0</td>\n",
       "      <td>1</td>\n",
       "      <td>0</td>\n",
       "      <td>0</td>\n",
       "      <td>1</td>\n",
       "    </tr>\n",
       "  </tbody>\n",
       "</table>\n",
       "<p>257 rows × 18 columns</p>\n",
       "</div>"
      ],
      "text/plain": [
       "     age  resting_blood_pressure  cholesterol  rest_ecg  \\\n",
       "527   62                     124          209         1   \n",
       "359   53                     128          216         0   \n",
       "447   55                     160          289         0   \n",
       "31    50                     120          244         1   \n",
       "621   48                     130          256         0   \n",
       "..   ...                     ...          ...       ...   \n",
       "940   57                     140          241         1   \n",
       "787   51                     140          298         1   \n",
       "926   54                     110          206         0   \n",
       "249   42                     130          180         1   \n",
       "552   43                     132          341         0   \n",
       "\n",
       "     max_heart_rate_achieved  st_depression  num_major_vessels  sex_male  \\\n",
       "527                      163            0.0                  0         0   \n",
       "359                      115            0.0                  0         0   \n",
       "447                      145            0.8                  1         1   \n",
       "31                       162            1.1                  0         0   \n",
       "621                      150            0.0                  2         1   \n",
       "..                       ...            ...                ...       ...   \n",
       "940                      123            0.2                  0         0   \n",
       "787                      122            4.2                  3         1   \n",
       "926                      108            0.0                  1         1   \n",
       "249                      150            0.0                  0         1   \n",
       "552                      136            3.0                  0         0   \n",
       "\n",
       "     chest_pain_type_atypical angina  chest_pain_type_non-anginal pain  \\\n",
       "527                                0                                 0   \n",
       "359                                1                                 0   \n",
       "447                                0                                 0   \n",
       "31                                 0                                 0   \n",
       "621                                0                                 0   \n",
       "..                               ...                               ...   \n",
       "940                                0                                 0   \n",
       "787                                0                                 0   \n",
       "926                                0                                 0   \n",
       "249                                1                                 0   \n",
       "552                                0                                 0   \n",
       "\n",
       "     chest_pain_type_typical angina  fasting_blood_sugar_lower than 120mg/ml  \\\n",
       "527                               0                                        1   \n",
       "359                               0                                        1   \n",
       "447                               0                                        1   \n",
       "31                                1                                        1   \n",
       "621                               0                                        0   \n",
       "..                              ...                                      ...   \n",
       "940                               0                                        1   \n",
       "787                               0                                        1   \n",
       "926                               0                                        1   \n",
       "249                               0                                        1   \n",
       "552                               0                                        0   \n",
       "\n",
       "     exercise_induced_angina_yes  st_slope_flat  st_slope_upsloping  \\\n",
       "527                            0              1                   0   \n",
       "359                            0              1                   0   \n",
       "447                            1              0                   1   \n",
       "31                             0              1                   0   \n",
       "621                            1              1                   0   \n",
       "..                           ...            ...                 ...   \n",
       "940                            1              0                   1   \n",
       "787                            1              0                   1   \n",
       "926                            1              0                   1   \n",
       "249                            0              1                   0   \n",
       "552                            1              0                   1   \n",
       "\n",
       "     thalassemia_fixed defect  thalassemia_normal  \\\n",
       "527                         1                   0   \n",
       "359                         0                   0   \n",
       "447                         0                   0   \n",
       "31                          1                   0   \n",
       "621                         0                   0   \n",
       "..                        ...                 ...   \n",
       "940                         0                   0   \n",
       "787                         0                   0   \n",
       "926                         1                   0   \n",
       "249                         1                   0   \n",
       "552                         0                   0   \n",
       "\n",
       "     thalassemia_reversable defect  \n",
       "527                              0  \n",
       "359                              0  \n",
       "447                              1  \n",
       "31                               0  \n",
       "621                              1  \n",
       "..                             ...  \n",
       "940                              1  \n",
       "787                              1  \n",
       "926                              0  \n",
       "249                              0  \n",
       "552                              1  \n",
       "\n",
       "[257 rows x 18 columns]"
      ]
     },
     "execution_count": 26,
     "metadata": {},
     "output_type": "execute_result"
    }
   ],
   "source": [
    "x_test"
   ]
  },
  {
   "cell_type": "markdown",
   "id": "3899ed2c",
   "metadata": {},
   "source": [
    "# KNN Classifier"
   ]
  },
  {
   "cell_type": "code",
   "execution_count": 27,
   "id": "4df25ead",
   "metadata": {},
   "outputs": [],
   "source": [
    "sc_X = StandardScaler()\n",
    "X_train = sc_X.fit_transform(x_train)\n",
    "X_test = sc_X.transform(x_test)"
   ]
  },
  {
   "cell_type": "code",
   "execution_count": 28,
   "id": "3a5a5676",
   "metadata": {},
   "outputs": [
    {
     "data": {
      "text/html": [
       "<style>#sk-container-id-2 {color: black;background-color: white;}#sk-container-id-2 pre{padding: 0;}#sk-container-id-2 div.sk-toggleable {background-color: white;}#sk-container-id-2 label.sk-toggleable__label {cursor: pointer;display: block;width: 100%;margin-bottom: 0;padding: 0.3em;box-sizing: border-box;text-align: center;}#sk-container-id-2 label.sk-toggleable__label-arrow:before {content: \"▸\";float: left;margin-right: 0.25em;color: #696969;}#sk-container-id-2 label.sk-toggleable__label-arrow:hover:before {color: black;}#sk-container-id-2 div.sk-estimator:hover label.sk-toggleable__label-arrow:before {color: black;}#sk-container-id-2 div.sk-toggleable__content {max-height: 0;max-width: 0;overflow: hidden;text-align: left;background-color: #f0f8ff;}#sk-container-id-2 div.sk-toggleable__content pre {margin: 0.2em;color: black;border-radius: 0.25em;background-color: #f0f8ff;}#sk-container-id-2 input.sk-toggleable__control:checked~div.sk-toggleable__content {max-height: 200px;max-width: 100%;overflow: auto;}#sk-container-id-2 input.sk-toggleable__control:checked~label.sk-toggleable__label-arrow:before {content: \"▾\";}#sk-container-id-2 div.sk-estimator input.sk-toggleable__control:checked~label.sk-toggleable__label {background-color: #d4ebff;}#sk-container-id-2 div.sk-label input.sk-toggleable__control:checked~label.sk-toggleable__label {background-color: #d4ebff;}#sk-container-id-2 input.sk-hidden--visually {border: 0;clip: rect(1px 1px 1px 1px);clip: rect(1px, 1px, 1px, 1px);height: 1px;margin: -1px;overflow: hidden;padding: 0;position: absolute;width: 1px;}#sk-container-id-2 div.sk-estimator {font-family: monospace;background-color: #f0f8ff;border: 1px dotted black;border-radius: 0.25em;box-sizing: border-box;margin-bottom: 0.5em;}#sk-container-id-2 div.sk-estimator:hover {background-color: #d4ebff;}#sk-container-id-2 div.sk-parallel-item::after {content: \"\";width: 100%;border-bottom: 1px solid gray;flex-grow: 1;}#sk-container-id-2 div.sk-label:hover label.sk-toggleable__label {background-color: #d4ebff;}#sk-container-id-2 div.sk-serial::before {content: \"\";position: absolute;border-left: 1px solid gray;box-sizing: border-box;top: 0;bottom: 0;left: 50%;z-index: 0;}#sk-container-id-2 div.sk-serial {display: flex;flex-direction: column;align-items: center;background-color: white;padding-right: 0.2em;padding-left: 0.2em;position: relative;}#sk-container-id-2 div.sk-item {position: relative;z-index: 1;}#sk-container-id-2 div.sk-parallel {display: flex;align-items: stretch;justify-content: center;background-color: white;position: relative;}#sk-container-id-2 div.sk-item::before, #sk-container-id-2 div.sk-parallel-item::before {content: \"\";position: absolute;border-left: 1px solid gray;box-sizing: border-box;top: 0;bottom: 0;left: 50%;z-index: -1;}#sk-container-id-2 div.sk-parallel-item {display: flex;flex-direction: column;z-index: 1;position: relative;background-color: white;}#sk-container-id-2 div.sk-parallel-item:first-child::after {align-self: flex-end;width: 50%;}#sk-container-id-2 div.sk-parallel-item:last-child::after {align-self: flex-start;width: 50%;}#sk-container-id-2 div.sk-parallel-item:only-child::after {width: 0;}#sk-container-id-2 div.sk-dashed-wrapped {border: 1px dashed gray;margin: 0 0.4em 0.5em 0.4em;box-sizing: border-box;padding-bottom: 0.4em;background-color: white;}#sk-container-id-2 div.sk-label label {font-family: monospace;font-weight: bold;display: inline-block;line-height: 1.2em;}#sk-container-id-2 div.sk-label-container {text-align: center;}#sk-container-id-2 div.sk-container {/* jupyter's `normalize.less` sets `[hidden] { display: none; }` but bootstrap.min.css set `[hidden] { display: none !important; }` so we also need the `!important` here to be able to override the default hidden behavior on the sphinx rendered scikit-learn.org. See: https://github.com/scikit-learn/scikit-learn/issues/21755 */display: inline-block !important;position: relative;}#sk-container-id-2 div.sk-text-repr-fallback {display: none;}</style><div id=\"sk-container-id-2\" class=\"sk-top-container\"><div class=\"sk-text-repr-fallback\"><pre>KNeighborsClassifier(metric=&#x27;euclidean&#x27;, n_neighbors=13)</pre><b>In a Jupyter environment, please rerun this cell to show the HTML representation or trust the notebook. <br />On GitHub, the HTML representation is unable to render, please try loading this page with nbviewer.org.</b></div><div class=\"sk-container\" hidden><div class=\"sk-item\"><div class=\"sk-estimator sk-toggleable\"><input class=\"sk-toggleable__control sk-hidden--visually\" id=\"sk-estimator-id-2\" type=\"checkbox\" checked><label for=\"sk-estimator-id-2\" class=\"sk-toggleable__label sk-toggleable__label-arrow\">KNeighborsClassifier</label><div class=\"sk-toggleable__content\"><pre>KNeighborsClassifier(metric=&#x27;euclidean&#x27;, n_neighbors=13)</pre></div></div></div></div></div>"
      ],
      "text/plain": [
       "KNeighborsClassifier(metric='euclidean', n_neighbors=13)"
      ]
     },
     "execution_count": 28,
     "metadata": {},
     "output_type": "execute_result"
    }
   ],
   "source": [
    "classifier = KNeighborsClassifier(n_neighbors=13,p=2,metric='euclidean')\n",
    "classifier.fit(X_train,y_train)"
   ]
  },
  {
   "cell_type": "code",
   "execution_count": 29,
   "id": "fc3e3e35",
   "metadata": {},
   "outputs": [
    {
     "data": {
      "text/plain": [
       "array([1, 1, 0, 1, 0, 1, 0, 0, 1, 0, 1, 0, 1, 1, 0, 1, 0, 1, 1, 0, 1, 0,\n",
       "       1, 0, 1, 1, 1, 1, 0, 1, 0, 1, 1, 1, 1, 1, 1, 1, 1, 1, 0, 0, 1, 1,\n",
       "       0, 0, 0, 0, 0, 0, 1, 0, 1, 0, 1, 1, 0, 0, 1, 1, 1, 0, 0, 0, 0, 0,\n",
       "       1, 0, 0, 1, 0, 0, 0, 1, 1, 0, 0, 1, 1, 1, 0, 0, 0, 0, 1, 0, 1, 0,\n",
       "       0, 1, 0, 0, 1, 1, 1, 1, 0, 0, 0, 0, 1, 0, 1, 0, 0, 1, 0, 1, 0, 1,\n",
       "       1, 1, 1, 0, 1, 1, 0, 1, 1, 0, 1, 1, 0, 0, 0, 0, 1, 0, 0, 1, 1, 0,\n",
       "       1, 1, 0, 1, 0, 1, 1, 0, 1, 1, 1, 0, 1, 1, 1, 1, 1, 0, 1, 0, 1, 1,\n",
       "       0, 0, 1, 1, 0, 0, 1, 1, 0, 0, 0, 0, 0, 0, 1, 1, 0, 1, 1, 0, 1, 1,\n",
       "       1, 0, 1, 1, 1, 0, 1, 1, 1, 1, 1, 1, 0, 1, 1, 1, 0, 1, 0, 0, 1, 0,\n",
       "       1, 1, 0, 1, 1, 0, 0, 1, 1, 1, 0, 1, 1, 0, 1, 0, 0, 0, 1, 0, 1, 0,\n",
       "       1, 0, 0, 1, 1, 0, 1, 1, 0, 1, 0, 0, 1, 1, 0, 0, 0, 0, 1, 1, 0, 1,\n",
       "       1, 0, 0, 1, 0, 1, 0, 0, 1, 0, 0, 0, 0, 1, 0], dtype=int64)"
      ]
     },
     "execution_count": 29,
     "metadata": {},
     "output_type": "execute_result"
    }
   ],
   "source": [
    "y_pred =  classifier.predict(X_test)\n",
    "y_pred"
   ]
  },
  {
   "cell_type": "code",
   "execution_count": 30,
   "id": "33be77c3",
   "metadata": {},
   "outputs": [
    {
     "data": {
      "text/plain": [
       "array([[105,  27],\n",
       "       [ 16, 109]], dtype=int64)"
      ]
     },
     "execution_count": 30,
     "metadata": {},
     "output_type": "execute_result"
    }
   ],
   "source": [
    "cm= confusion_matrix(y_test,y_pred)\n",
    "cm"
   ]
  },
  {
   "cell_type": "code",
   "execution_count": 31,
   "id": "316d47e8",
   "metadata": {},
   "outputs": [
    {
     "data": {
      "image/png": "[encoded data removed]",
      "text/plain": [
       "<Figure size 432x288 with 1 Axes>"
      ]
     },
     "metadata": {
      "needs_background": "light"
     },
     "output_type": "display_data"
    }
   ],
   "source": [
    "sns.heatmap(cm, annot=True, cmap='Blues', fmt='d', cbar=False, annot_kws={'size':12})\n",
    "plt.show()"
   ]
  },
  {
   "cell_type": "code",
   "execution_count": 32,
   "id": "f242787f",
   "metadata": {},
   "outputs": [
    {
     "name": "stdout",
     "output_type": "stream",
     "text": [
      "              precision    recall  f1-score   support\n",
      "\n",
      "           0       0.87      0.80      0.83       132\n",
      "           1       0.80      0.87      0.84       125\n",
      "\n",
      "    accuracy                           0.83       257\n",
      "   macro avg       0.83      0.83      0.83       257\n",
      "weighted avg       0.84      0.83      0.83       257\n",
      "\n"
     ]
    }
   ],
   "source": [
    "print(classification_report(y_test, y_pred))"
   ]
  },
  {
   "cell_type": "markdown",
   "id": "4d695311",
   "metadata": {},
   "source": [
    "# Naive Bayes Algorithm"
   ]
  },
  {
   "cell_type": "code",
   "execution_count": 33,
   "id": "d1be4a27",
   "metadata": {},
   "outputs": [
    {
     "data": {
      "text/html": [
       "<style>#sk-container-id-3 {color: black;background-color: white;}#sk-container-id-3 pre{padding: 0;}#sk-container-id-3 div.sk-toggleable {background-color: white;}#sk-container-id-3 label.sk-toggleable__label {cursor: pointer;display: block;width: 100%;margin-bottom: 0;padding: 0.3em;box-sizing: border-box;text-align: center;}#sk-container-id-3 label.sk-toggleable__label-arrow:before {content: \"▸\";float: left;margin-right: 0.25em;color: #696969;}#sk-container-id-3 label.sk-toggleable__label-arrow:hover:before {color: black;}#sk-container-id-3 div.sk-estimator:hover label.sk-toggleable__label-arrow:before {color: black;}#sk-container-id-3 div.sk-toggleable__content {max-height: 0;max-width: 0;overflow: hidden;text-align: left;background-color: #f0f8ff;}#sk-container-id-3 div.sk-toggleable__content pre {margin: 0.2em;color: black;border-radius: 0.25em;background-color: #f0f8ff;}#sk-container-id-3 input.sk-toggleable__control:checked~div.sk-toggleable__content {max-height: 200px;max-width: 100%;overflow: auto;}#sk-container-id-3 input.sk-toggleable__control:checked~label.sk-toggleable__label-arrow:before {content: \"▾\";}#sk-container-id-3 div.sk-estimator input.sk-toggleable__control:checked~label.sk-toggleable__label {background-color: #d4ebff;}#sk-container-id-3 div.sk-label input.sk-toggleable__control:checked~label.sk-toggleable__label {background-color: #d4ebff;}#sk-container-id-3 input.sk-hidden--visually {border: 0;clip: rect(1px 1px 1px 1px);clip: rect(1px, 1px, 1px, 1px);height: 1px;margin: -1px;overflow: hidden;padding: 0;position: absolute;width: 1px;}#sk-container-id-3 div.sk-estimator {font-family: monospace;background-color: #f0f8ff;border: 1px dotted black;border-radius: 0.25em;box-sizing: border-box;margin-bottom: 0.5em;}#sk-container-id-3 div.sk-estimator:hover {background-color: #d4ebff;}#sk-container-id-3 div.sk-parallel-item::after {content: \"\";width: 100%;border-bottom: 1px solid gray;flex-grow: 1;}#sk-container-id-3 div.sk-label:hover label.sk-toggleable__label {background-color: #d4ebff;}#sk-container-id-3 div.sk-serial::before {content: \"\";position: absolute;border-left: 1px solid gray;box-sizing: border-box;top: 0;bottom: 0;left: 50%;z-index: 0;}#sk-container-id-3 div.sk-serial {display: flex;flex-direction: column;align-items: center;background-color: white;padding-right: 0.2em;padding-left: 0.2em;position: relative;}#sk-container-id-3 div.sk-item {position: relative;z-index: 1;}#sk-container-id-3 div.sk-parallel {display: flex;align-items: stretch;justify-content: center;background-color: white;position: relative;}#sk-container-id-3 div.sk-item::before, #sk-container-id-3 div.sk-parallel-item::before {content: \"\";position: absolute;border-left: 1px solid gray;box-sizing: border-box;top: 0;bottom: 0;left: 50%;z-index: -1;}#sk-container-id-3 div.sk-parallel-item {display: flex;flex-direction: column;z-index: 1;position: relative;background-color: white;}#sk-container-id-3 div.sk-parallel-item:first-child::after {align-self: flex-end;width: 50%;}#sk-container-id-3 div.sk-parallel-item:last-child::after {align-self: flex-start;width: 50%;}#sk-container-id-3 div.sk-parallel-item:only-child::after {width: 0;}#sk-container-id-3 div.sk-dashed-wrapped {border: 1px dashed gray;margin: 0 0.4em 0.5em 0.4em;box-sizing: border-box;padding-bottom: 0.4em;background-color: white;}#sk-container-id-3 div.sk-label label {font-family: monospace;font-weight: bold;display: inline-block;line-height: 1.2em;}#sk-container-id-3 div.sk-label-container {text-align: center;}#sk-container-id-3 div.sk-container {/* jupyter's `normalize.less` sets `[hidden] { display: none; }` but bootstrap.min.css set `[hidden] { display: none !important; }` so we also need the `!important` here to be able to override the default hidden behavior on the sphinx rendered scikit-learn.org. See: https://github.com/scikit-learn/scikit-learn/issues/21755 */display: inline-block !important;position: relative;}#sk-container-id-3 div.sk-text-repr-fallback {display: none;}</style><div id=\"sk-container-id-3\" class=\"sk-top-container\"><div class=\"sk-text-repr-fallback\"><pre>GaussianNB()</pre><b>In a Jupyter environment, please rerun this cell to show the HTML representation or trust the notebook. <br />On GitHub, the HTML representation is unable to render, please try loading this page with nbviewer.org.</b></div><div class=\"sk-container\" hidden><div class=\"sk-item\"><div class=\"sk-estimator sk-toggleable\"><input class=\"sk-toggleable__control sk-hidden--visually\" id=\"sk-estimator-id-3\" type=\"checkbox\" checked><label for=\"sk-estimator-id-3\" class=\"sk-toggleable__label sk-toggleable__label-arrow\">GaussianNB</label><div class=\"sk-toggleable__content\"><pre>GaussianNB()</pre></div></div></div></div></div>"
      ],
      "text/plain": [
       "GaussianNB()"
      ]
     },
     "execution_count": 33,
     "metadata": {},
     "output_type": "execute_result"
    }
   ],
   "source": [
    "from sklearn.naive_bayes import GaussianNB\n",
    "classifier = GaussianNB()\n",
    "classifier.fit(X_train, y_train)"
   ]
  },
  {
   "cell_type": "code",
   "execution_count": 34,
   "id": "36972bf7",
   "metadata": {},
   "outputs": [],
   "source": [
    "y_pred  =  classifier.predict(X_test)"
   ]
  },
  {
   "cell_type": "code",
   "execution_count": 35,
   "id": "df811511",
   "metadata": {},
   "outputs": [],
   "source": [
    "from sklearn.metrics import confusion_matrix,accuracy_score\n",
    "cm = confusion_matrix(y_test, y_pred)\n",
    "ac = accuracy_score(y_test,y_pred)"
   ]
  },
  {
   "cell_type": "code",
   "execution_count": 36,
   "id": "f54aaa8e",
   "metadata": {},
   "outputs": [
    {
     "data": {
      "image/png": "[encoded data removed]",
      "text/plain": [
       "<Figure size 432x288 with 1 Axes>"
      ]
     },
     "metadata": {
      "needs_background": "light"
     },
     "output_type": "display_data"
    }
   ],
   "source": [
    "sns.heatmap(cm, annot=True, cmap='Blues', fmt='d', cbar=False, annot_kws={'size':12})\n",
    "plt.show()"
   ]
  },
  {
   "cell_type": "code",
   "execution_count": 37,
   "id": "9f87c45e",
   "metadata": {},
   "outputs": [
    {
     "name": "stdout",
     "output_type": "stream",
     "text": [
      "              precision    recall  f1-score   support\n",
      "\n",
      "           0       0.82      0.78      0.80       132\n",
      "           1       0.78      0.82      0.80       125\n",
      "\n",
      "    accuracy                           0.80       257\n",
      "   macro avg       0.80      0.80      0.80       257\n",
      "weighted avg       0.80      0.80      0.80       257\n",
      "\n"
     ]
    }
   ],
   "source": [
    "print(classification_report(y_test, y_pred))"
   ]
  },
  {
   "cell_type": "code",
   "execution_count": 38,
   "id": "abb80edb",
   "metadata": {},
   "outputs": [
    {
     "name": "stdout",
     "output_type": "stream",
     "text": [
      "(768, 2)\n",
      "[[0. 1.]\n",
      " [1. 0.]\n",
      " [0. 1.]\n",
      " [1. 0.]\n",
      " [0. 1.]\n",
      " [0. 1.]\n",
      " [1. 0.]\n",
      " [1. 0.]\n",
      " [1. 0.]\n",
      " [1. 0.]]\n"
     ]
    }
   ],
   "source": [
    "# convert the data to categorical labels\n",
    "from keras.utils.np_utils import to_categorical\n",
    "\n",
    "Y_train = to_categorical(y_train, num_classes=None)\n",
    "Y_test = to_categorical(y_test, num_classes=None)\n",
    "print (Y_train.shape)\n",
    "print (Y_train[:10])"
   ]
  },
  {
   "cell_type": "markdown",
   "id": "f15e628b",
   "metadata": {},
   "source": [
    "# Building and Training the Neural Network"
   ]
  },
  {
   "cell_type": "code",
   "execution_count": 39,
   "id": "d7a1e2d3",
   "metadata": {},
   "outputs": [
    {
     "name": "stdout",
     "output_type": "stream",
     "text": [
      "Model: \"sequential\"\n",
      "_________________________________________________________________\n",
      " Layer (type)                Output Shape              Param #   \n",
      "=================================================================\n",
      " dense (Dense)               (None, 16)                304       \n",
      "                                                                 \n",
      " dropout (Dropout)           (None, 16)                0         \n",
      "                                                                 \n",
      " dense_1 (Dense)             (None, 8)                 136       \n",
      "                                                                 \n",
      " dropout_1 (Dropout)         (None, 8)                 0         \n",
      "                                                                 \n",
      " dense_2 (Dense)             (None, 2)                 18        \n",
      "                                                                 \n",
      "=================================================================\n",
      "Total params: 458\n",
      "Trainable params: 458\n",
      "Non-trainable params: 0\n",
      "_________________________________________________________________\n",
      "None\n"
     ]
    }
   ],
   "source": [
    "from keras.models import Sequential\n",
    "from keras.layers import Dense\n",
    "from tensorflow.keras.optimizers import Adam\n",
    "from keras.layers import Dropout\n",
    "from keras import regularizers\n",
    "\n",
    "# define a function to build the keras model\n",
    "def create_model():\n",
    "    # create model\n",
    "    model = Sequential()\n",
    "    model.add(Dense(16, input_dim=18, kernel_initializer='normal', kernel_regularizer=regularizers.l2(0.001), activation='relu'))\n",
    "    model.add(Dropout(0.25))\n",
    "    model.add(Dense(8, kernel_initializer='normal', kernel_regularizer=regularizers.l2(0.001), activation='relu'))\n",
    "    model.add(Dropout(0.25))\n",
    "    model.add(Dense(2, activation='softmax'))\n",
    "    \n",
    "    # compile model\n",
    "    adam = Adam(learning_rate=0.001)\n",
    "    model.compile(loss='categorical_crossentropy', optimizer='rmsprop', metrics=['accuracy'])\n",
    "    return model\n",
    "\n",
    "model = create_model()\n",
    "\n",
    "print(model.summary())"
   ]
  },
  {
   "cell_type": "code",
   "execution_count": 40,
   "id": "faa26e9b",
   "metadata": {},
   "outputs": [
    {
     "name": "stdout",
     "output_type": "stream",
     "text": [
      "Epoch 1/50\n",
      "77/77 [==============================] - 1s 6ms/step - loss: 0.6402 - accuracy: 0.7474 - val_loss: 0.5658 - val_accuracy: 0.7899\n",
      "Epoch 2/50\n",
      "77/77 [==============================] - 0s 4ms/step - loss: 0.4737 - accuracy: 0.8333 - val_loss: 0.4528 - val_accuracy: 0.7977\n",
      "Epoch 3/50\n",
      "77/77 [==============================] - 0s 4ms/step - loss: 0.3855 - accuracy: 0.8503 - val_loss: 0.4366 - val_accuracy: 0.7977\n",
      "Epoch 4/50\n",
      "77/77 [==============================] - 0s 4ms/step - loss: 0.3610 - accuracy: 0.8581 - val_loss: 0.4355 - val_accuracy: 0.8093\n",
      "Epoch 5/50\n",
      "77/77 [==============================] - 0s 4ms/step - loss: 0.3536 - accuracy: 0.8737 - val_loss: 0.4311 - val_accuracy: 0.8132\n",
      "Epoch 6/50\n",
      "77/77 [==============================] - 0s 4ms/step - loss: 0.3438 - accuracy: 0.8815 - val_loss: 0.4277 - val_accuracy: 0.8132\n",
      "Epoch 7/50\n",
      "77/77 [==============================] - 0s 4ms/step - loss: 0.3340 - accuracy: 0.8815 - val_loss: 0.4231 - val_accuracy: 0.8249\n",
      "Epoch 8/50\n",
      "77/77 [==============================] - 0s 4ms/step - loss: 0.3258 - accuracy: 0.8893 - val_loss: 0.4182 - val_accuracy: 0.8249\n",
      "Epoch 9/50\n",
      "77/77 [==============================] - 0s 4ms/step - loss: 0.3278 - accuracy: 0.8841 - val_loss: 0.4126 - val_accuracy: 0.8249\n",
      "Epoch 10/50\n",
      "77/77 [==============================] - 0s 4ms/step - loss: 0.2971 - accuracy: 0.8932 - val_loss: 0.4186 - val_accuracy: 0.8327\n",
      "Epoch 11/50\n",
      "77/77 [==============================] - 0s 4ms/step - loss: 0.3122 - accuracy: 0.8997 - val_loss: 0.4128 - val_accuracy: 0.8288\n",
      "Epoch 12/50\n",
      "77/77 [==============================] - 0s 4ms/step - loss: 0.3110 - accuracy: 0.8984 - val_loss: 0.4114 - val_accuracy: 0.8288\n",
      "Epoch 13/50\n",
      "77/77 [==============================] - 0s 4ms/step - loss: 0.3080 - accuracy: 0.9049 - val_loss: 0.4141 - val_accuracy: 0.8288\n",
      "Epoch 14/50\n",
      "77/77 [==============================] - 0s 4ms/step - loss: 0.2848 - accuracy: 0.9049 - val_loss: 0.4128 - val_accuracy: 0.8366\n",
      "Epoch 15/50\n",
      "77/77 [==============================] - 0s 4ms/step - loss: 0.2919 - accuracy: 0.9167 - val_loss: 0.4086 - val_accuracy: 0.8249\n",
      "Epoch 16/50\n",
      "77/77 [==============================] - 0s 5ms/step - loss: 0.2972 - accuracy: 0.8958 - val_loss: 0.4059 - val_accuracy: 0.8288\n",
      "Epoch 17/50\n",
      "77/77 [==============================] - 0s 5ms/step - loss: 0.2924 - accuracy: 0.9062 - val_loss: 0.4032 - val_accuracy: 0.8327\n",
      "Epoch 18/50\n",
      "77/77 [==============================] - 0s 5ms/step - loss: 0.2918 - accuracy: 0.8945 - val_loss: 0.3987 - val_accuracy: 0.8366\n",
      "Epoch 19/50\n",
      "77/77 [==============================] - 0s 5ms/step - loss: 0.2809 - accuracy: 0.9023 - val_loss: 0.3982 - val_accuracy: 0.8327\n",
      "Epoch 20/50\n",
      "77/77 [==============================] - 0s 5ms/step - loss: 0.3074 - accuracy: 0.9128 - val_loss: 0.3887 - val_accuracy: 0.8249\n",
      "Epoch 21/50\n",
      "77/77 [==============================] - 0s 5ms/step - loss: 0.2834 - accuracy: 0.8958 - val_loss: 0.3913 - val_accuracy: 0.8405\n",
      "Epoch 22/50\n",
      "77/77 [==============================] - 0s 5ms/step - loss: 0.2884 - accuracy: 0.9076 - val_loss: 0.3913 - val_accuracy: 0.8405\n",
      "Epoch 23/50\n",
      "77/77 [==============================] - 0s 5ms/step - loss: 0.2773 - accuracy: 0.9076 - val_loss: 0.3874 - val_accuracy: 0.8249\n",
      "Epoch 24/50\n",
      "77/77 [==============================] - 0s 5ms/step - loss: 0.2797 - accuracy: 0.9141 - val_loss: 0.3892 - val_accuracy: 0.8444\n",
      "Epoch 25/50\n",
      "77/77 [==============================] - 0s 5ms/step - loss: 0.2840 - accuracy: 0.9062 - val_loss: 0.3806 - val_accuracy: 0.8366\n",
      "Epoch 26/50\n",
      "77/77 [==============================] - 0s 5ms/step - loss: 0.2789 - accuracy: 0.9102 - val_loss: 0.3810 - val_accuracy: 0.8366\n",
      "Epoch 27/50\n",
      "77/77 [==============================] - 0s 5ms/step - loss: 0.2713 - accuracy: 0.9219 - val_loss: 0.3810 - val_accuracy: 0.8288\n",
      "Epoch 28/50\n",
      "77/77 [==============================] - 0s 6ms/step - loss: 0.2778 - accuracy: 0.9167 - val_loss: 0.3753 - val_accuracy: 0.8444\n",
      "Epoch 29/50\n",
      "77/77 [==============================] - 0s 5ms/step - loss: 0.2616 - accuracy: 0.9154 - val_loss: 0.3757 - val_accuracy: 0.8482\n",
      "Epoch 30/50\n",
      "77/77 [==============================] - 0s 5ms/step - loss: 0.2741 - accuracy: 0.9089 - val_loss: 0.3782 - val_accuracy: 0.8482\n",
      "Epoch 31/50\n",
      "77/77 [==============================] - 0s 5ms/step - loss: 0.2626 - accuracy: 0.9128 - val_loss: 0.3766 - val_accuracy: 0.8482\n",
      "Epoch 32/50\n",
      "77/77 [==============================] - 0s 6ms/step - loss: 0.2523 - accuracy: 0.9154 - val_loss: 0.3694 - val_accuracy: 0.8560\n",
      "Epoch 33/50\n",
      "77/77 [==============================] - 0s 5ms/step - loss: 0.2618 - accuracy: 0.9141 - val_loss: 0.3638 - val_accuracy: 0.8482\n",
      "Epoch 34/50\n",
      "77/77 [==============================] - 0s 5ms/step - loss: 0.2494 - accuracy: 0.9023 - val_loss: 0.3707 - val_accuracy: 0.8677\n",
      "Epoch 35/50\n",
      "77/77 [==============================] - 0s 5ms/step - loss: 0.2722 - accuracy: 0.9023 - val_loss: 0.3708 - val_accuracy: 0.8444\n",
      "Epoch 36/50\n",
      "77/77 [==============================] - 0s 5ms/step - loss: 0.2498 - accuracy: 0.9206 - val_loss: 0.3708 - val_accuracy: 0.8444\n",
      "Epoch 37/50\n",
      "77/77 [==============================] - 0s 5ms/step - loss: 0.2446 - accuracy: 0.9180 - val_loss: 0.3704 - val_accuracy: 0.8521\n",
      "Epoch 38/50\n",
      "77/77 [==============================] - 0s 5ms/step - loss: 0.2595 - accuracy: 0.9154 - val_loss: 0.3724 - val_accuracy: 0.8599\n",
      "Epoch 39/50\n",
      "77/77 [==============================] - 0s 5ms/step - loss: 0.2417 - accuracy: 0.9232 - val_loss: 0.3833 - val_accuracy: 0.8444\n",
      "Epoch 40/50\n",
      "77/77 [==============================] - 0s 6ms/step - loss: 0.2724 - accuracy: 0.9206 - val_loss: 0.3704 - val_accuracy: 0.8599\n",
      "Epoch 41/50\n",
      "77/77 [==============================] - 0s 5ms/step - loss: 0.2574 - accuracy: 0.9128 - val_loss: 0.3690 - val_accuracy: 0.8560\n",
      "Epoch 42/50\n",
      "77/77 [==============================] - 0s 5ms/step - loss: 0.2467 - accuracy: 0.9232 - val_loss: 0.3742 - val_accuracy: 0.8521\n",
      "Epoch 43/50\n",
      "77/77 [==============================] - 0s 5ms/step - loss: 0.2572 - accuracy: 0.9102 - val_loss: 0.3650 - val_accuracy: 0.8638\n",
      "Epoch 44/50\n",
      "77/77 [==============================] - 0s 5ms/step - loss: 0.2509 - accuracy: 0.9167 - val_loss: 0.3649 - val_accuracy: 0.8444\n",
      "Epoch 45/50\n",
      "77/77 [==============================] - 0s 5ms/step - loss: 0.2456 - accuracy: 0.9219 - val_loss: 0.3732 - val_accuracy: 0.8482\n",
      "Epoch 46/50\n",
      "77/77 [==============================] - 0s 5ms/step - loss: 0.2505 - accuracy: 0.9245 - val_loss: 0.3680 - val_accuracy: 0.8482\n",
      "Epoch 47/50\n",
      "77/77 [==============================] - 0s 5ms/step - loss: 0.2305 - accuracy: 0.9206 - val_loss: 0.3662 - val_accuracy: 0.8638\n",
      "Epoch 48/50\n",
      "77/77 [==============================] - 0s 5ms/step - loss: 0.2531 - accuracy: 0.9193 - val_loss: 0.3705 - val_accuracy: 0.8560\n",
      "Epoch 49/50\n",
      "77/77 [==============================] - 0s 5ms/step - loss: 0.2629 - accuracy: 0.9141 - val_loss: 0.3732 - val_accuracy: 0.8560\n",
      "Epoch 50/50\n",
      "77/77 [==============================] - 0s 5ms/step - loss: 0.2337 - accuracy: 0.9297 - val_loss: 0.3713 - val_accuracy: 0.8521\n"
     ]
    }
   ],
   "source": [
    "# fit the model to the training data\n",
    "history=model.fit(X_train, Y_train, validation_data=(X_test, Y_test),epochs=50, batch_size=10)"
   ]
  },
  {
   "cell_type": "code",
   "execution_count": 42,
   "id": "4e7795f1",
   "metadata": {},
   "outputs": [
    {
     "data": {
      "image/png": "[encoded data removed]",
      "text/plain": [
       "<Figure size 432x288 with 1 Axes>"
      ]
     },
     "metadata": {
      "needs_background": "light"
     },
     "output_type": "display_data"
    }
   ],
   "source": [
    "import matplotlib.pyplot as plt\n",
    "%matplotlib inline\n",
    "# Model accuracy\n",
    "plt.plot(history.history['accuracy'])\n",
    "plt.plot(history.history['val_accuracy'])\n",
    "plt.title('Model Accuracy')\n",
    "plt.ylabel('accuracy')\n",
    "plt.xlabel('epoch')\n",
    "plt.legend(['train', 'test'])\n",
    "plt.show()"
   ]
  },
  {
   "cell_type": "code",
   "execution_count": 43,
   "id": "af9add02",
   "metadata": {},
   "outputs": [
    {
     "data": {
      "image/png": "[encoded data removed]",
      "text/plain": [
       "<Figure size 432x288 with 1 Axes>"
      ]
     },
     "metadata": {
      "needs_background": "light"
     },
     "output_type": "display_data"
    }
   ],
   "source": [
    "# Model Losss\n",
    "plt.plot(history.history['loss'])\n",
    "plt.plot(history.history['val_loss'])\n",
    "plt.title('Model Loss')\n",
    "plt.ylabel('loss')\n",
    "plt.xlabel('epoch')\n",
    "plt.legend(['train', 'test'])\n",
    "plt.show()"
   ]
  },
  {
   "cell_type": "markdown",
   "id": "7f59335d",
   "metadata": {},
   "source": [
    "# Improving Results - A Binary Classification Problem"
   ]
  },
  {
   "cell_type": "code",
   "execution_count": 44,
   "id": "fa7869e7",
   "metadata": {},
   "outputs": [
    {
     "name": "stdout",
     "output_type": "stream",
     "text": [
      "949     1\n",
      "1021    0\n",
      "94      1\n",
      "33      0\n",
      "259     1\n",
      "204     1\n",
      "346     0\n",
      "593     0\n",
      "328     0\n",
      "77      0\n",
      "84      1\n",
      "1005    0\n",
      "82      0\n",
      "370     0\n",
      "936     1\n",
      "895     0\n",
      "535     1\n",
      "382     0\n",
      "718     1\n",
      "298     1\n",
      "Name: target, dtype: int64\n"
     ]
    }
   ],
   "source": [
    "# convert into binary classification problem - heart disease or no heart disease\n",
    "Y_train_binary = y_train.copy()\n",
    "Y_test_binary = y_test.copy()\n",
    "\n",
    "Y_train_binary[Y_train_binary > 0] = 1\n",
    "Y_test_binary[Y_test_binary > 0] = 1\n",
    "\n",
    "print(Y_train_binary[:20])"
   ]
  },
  {
   "cell_type": "code",
   "execution_count": 48,
   "id": "c4a22c6d",
   "metadata": {},
   "outputs": [
    {
     "name": "stdout",
     "output_type": "stream",
     "text": [
      "Model: \"sequential_3\"\n",
      "_________________________________________________________________\n",
      " Layer (type)                Output Shape              Param #   \n",
      "=================================================================\n",
      " dense_9 (Dense)             (None, 16)                304       \n",
      "                                                                 \n",
      " dropout_6 (Dropout)         (None, 16)                0         \n",
      "                                                                 \n",
      " dense_10 (Dense)            (None, 8)                 136       \n",
      "                                                                 \n",
      " dropout_7 (Dropout)         (None, 8)                 0         \n",
      "                                                                 \n",
      " dense_11 (Dense)            (None, 1)                 9         \n",
      "                                                                 \n",
      "=================================================================\n",
      "Total params: 449\n",
      "Trainable params: 449\n",
      "Non-trainable params: 0\n",
      "_________________________________________________________________\n",
      "None\n"
     ]
    }
   ],
   "source": [
    "# define a new keras model for binary classification\n",
    "def create_binary_model():\n",
    "    # create model\n",
    "    model = Sequential()\n",
    "    model.add(Dense(16, input_dim=18, kernel_initializer='normal',  kernel_regularizer=regularizers.l2(0.001),activation='relu'))\n",
    "    model.add(Dropout(0.25))\n",
    "    model.add(Dense(8, kernel_initializer='normal',  kernel_regularizer=regularizers.l2(0.001),activation='relu'))\n",
    "    model.add(Dropout(0.25))\n",
    "    model.add(Dense(1, activation='sigmoid'))\n",
    "    \n",
    "    # Compile model\n",
    "    adam = Adam(learning_rate=0.001)\n",
    "    model.compile(loss='binary_crossentropy', optimizer='rmsprop', metrics=['accuracy'])\n",
    "    return model\n",
    "\n",
    "binary_model = create_binary_model()\n",
    "\n",
    "print(binary_model.summary())"
   ]
  },
  {
   "cell_type": "code",
   "execution_count": 49,
   "id": "c8fea90d",
   "metadata": {},
   "outputs": [
    {
     "name": "stdout",
     "output_type": "stream",
     "text": [
      "Epoch 1/50\n",
      "77/77 [==============================] - 1s 8ms/step - loss: 0.6314 - accuracy: 0.7617 - val_loss: 0.5615 - val_accuracy: 0.7977\n",
      "Epoch 2/50\n",
      "77/77 [==============================] - 1s 7ms/step - loss: 0.4731 - accuracy: 0.8464 - val_loss: 0.4476 - val_accuracy: 0.8054\n",
      "Epoch 3/50\n",
      "77/77 [==============================] - 0s 6ms/step - loss: 0.3858 - accuracy: 0.8633 - val_loss: 0.4264 - val_accuracy: 0.8093\n",
      "Epoch 4/50\n",
      "77/77 [==============================] - 0s 5ms/step - loss: 0.3658 - accuracy: 0.8672 - val_loss: 0.4197 - val_accuracy: 0.8093\n",
      "Epoch 5/50\n",
      "77/77 [==============================] - 0s 5ms/step - loss: 0.3556 - accuracy: 0.8724 - val_loss: 0.4167 - val_accuracy: 0.8171\n",
      "Epoch 6/50\n",
      "77/77 [==============================] - 0s 5ms/step - loss: 0.3352 - accuracy: 0.8802 - val_loss: 0.4167 - val_accuracy: 0.8132\n",
      "Epoch 7/50\n",
      "77/77 [==============================] - 0s 5ms/step - loss: 0.3348 - accuracy: 0.8724 - val_loss: 0.4128 - val_accuracy: 0.8171\n",
      "Epoch 8/50\n",
      "77/77 [==============================] - 0s 6ms/step - loss: 0.3449 - accuracy: 0.8815 - val_loss: 0.4130 - val_accuracy: 0.8132\n",
      "Epoch 9/50\n",
      "77/77 [==============================] - 0s 6ms/step - loss: 0.3239 - accuracy: 0.8828 - val_loss: 0.4070 - val_accuracy: 0.8288\n",
      "Epoch 10/50\n",
      "77/77 [==============================] - 0s 6ms/step - loss: 0.3129 - accuracy: 0.8919 - val_loss: 0.4038 - val_accuracy: 0.8249\n",
      "Epoch 11/50\n",
      "77/77 [==============================] - 0s 6ms/step - loss: 0.3160 - accuracy: 0.8932 - val_loss: 0.3983 - val_accuracy: 0.8249\n",
      "Epoch 12/50\n",
      "77/77 [==============================] - 0s 6ms/step - loss: 0.3005 - accuracy: 0.8893 - val_loss: 0.3961 - val_accuracy: 0.8249\n",
      "Epoch 13/50\n",
      "77/77 [==============================] - 0s 6ms/step - loss: 0.3056 - accuracy: 0.8958 - val_loss: 0.3991 - val_accuracy: 0.8249\n",
      "Epoch 14/50\n",
      "77/77 [==============================] - 0s 6ms/step - loss: 0.3075 - accuracy: 0.8893 - val_loss: 0.3930 - val_accuracy: 0.8288\n",
      "Epoch 15/50\n",
      "77/77 [==============================] - 0s 6ms/step - loss: 0.2975 - accuracy: 0.8984 - val_loss: 0.3930 - val_accuracy: 0.8288\n",
      "Epoch 16/50\n",
      "77/77 [==============================] - 0s 6ms/step - loss: 0.2984 - accuracy: 0.9023 - val_loss: 0.3931 - val_accuracy: 0.8288\n",
      "Epoch 17/50\n",
      "77/77 [==============================] - 0s 5ms/step - loss: 0.3053 - accuracy: 0.8984 - val_loss: 0.3843 - val_accuracy: 0.8327\n",
      "Epoch 18/50\n",
      "77/77 [==============================] - 0s 6ms/step - loss: 0.2855 - accuracy: 0.8958 - val_loss: 0.3835 - val_accuracy: 0.8288\n",
      "Epoch 19/50\n",
      "77/77 [==============================] - 0s 6ms/step - loss: 0.2899 - accuracy: 0.9049 - val_loss: 0.3866 - val_accuracy: 0.8288\n",
      "Epoch 20/50\n",
      "77/77 [==============================] - 0s 6ms/step - loss: 0.2784 - accuracy: 0.8997 - val_loss: 0.3857 - val_accuracy: 0.8327\n",
      "Epoch 21/50\n",
      "77/77 [==============================] - 0s 6ms/step - loss: 0.2874 - accuracy: 0.9023 - val_loss: 0.3808 - val_accuracy: 0.8327\n",
      "Epoch 22/50\n",
      "77/77 [==============================] - 0s 6ms/step - loss: 0.2680 - accuracy: 0.9115 - val_loss: 0.3798 - val_accuracy: 0.8405\n",
      "Epoch 23/50\n",
      "77/77 [==============================] - 0s 6ms/step - loss: 0.2690 - accuracy: 0.9049 - val_loss: 0.3918 - val_accuracy: 0.8327\n",
      "Epoch 24/50\n",
      "77/77 [==============================] - 0s 5ms/step - loss: 0.2894 - accuracy: 0.9076 - val_loss: 0.3822 - val_accuracy: 0.8327\n",
      "Epoch 25/50\n",
      "77/77 [==============================] - 0s 5ms/step - loss: 0.2823 - accuracy: 0.9076 - val_loss: 0.3792 - val_accuracy: 0.8327\n",
      "Epoch 26/50\n",
      "77/77 [==============================] - 0s 6ms/step - loss: 0.2846 - accuracy: 0.9115 - val_loss: 0.3810 - val_accuracy: 0.8327\n",
      "Epoch 27/50\n",
      "77/77 [==============================] - 0s 6ms/step - loss: 0.2788 - accuracy: 0.9141 - val_loss: 0.3791 - val_accuracy: 0.8327\n",
      "Epoch 28/50\n",
      "77/77 [==============================] - 0s 6ms/step - loss: 0.2805 - accuracy: 0.9128 - val_loss: 0.3750 - val_accuracy: 0.8327\n",
      "Epoch 29/50\n",
      "77/77 [==============================] - 0s 6ms/step - loss: 0.2682 - accuracy: 0.9167 - val_loss: 0.3752 - val_accuracy: 0.8327\n",
      "Epoch 30/50\n",
      "77/77 [==============================] - 1s 7ms/step - loss: 0.2718 - accuracy: 0.9128 - val_loss: 0.3730 - val_accuracy: 0.8444\n",
      "Epoch 31/50\n",
      "77/77 [==============================] - 0s 6ms/step - loss: 0.2860 - accuracy: 0.9076 - val_loss: 0.3628 - val_accuracy: 0.8444\n",
      "Epoch 32/50\n",
      "77/77 [==============================] - 0s 5ms/step - loss: 0.2565 - accuracy: 0.9193 - val_loss: 0.3649 - val_accuracy: 0.8482\n",
      "Epoch 33/50\n",
      "77/77 [==============================] - 0s 5ms/step - loss: 0.2572 - accuracy: 0.9141 - val_loss: 0.3621 - val_accuracy: 0.8288\n",
      "Epoch 34/50\n",
      "77/77 [==============================] - 0s 5ms/step - loss: 0.2684 - accuracy: 0.9128 - val_loss: 0.3572 - val_accuracy: 0.8366\n",
      "Epoch 35/50\n",
      "77/77 [==============================] - 0s 5ms/step - loss: 0.2622 - accuracy: 0.9102 - val_loss: 0.3547 - val_accuracy: 0.8366\n",
      "Epoch 36/50\n",
      "77/77 [==============================] - 1s 7ms/step - loss: 0.2732 - accuracy: 0.9023 - val_loss: 0.3472 - val_accuracy: 0.8288\n",
      "Epoch 37/50\n",
      "77/77 [==============================] - 0s 5ms/step - loss: 0.2625 - accuracy: 0.9076 - val_loss: 0.3575 - val_accuracy: 0.8521\n",
      "Epoch 38/50\n",
      "77/77 [==============================] - 0s 6ms/step - loss: 0.2632 - accuracy: 0.9115 - val_loss: 0.3487 - val_accuracy: 0.8405\n",
      "Epoch 39/50\n",
      "77/77 [==============================] - 0s 6ms/step - loss: 0.2588 - accuracy: 0.9193 - val_loss: 0.3514 - val_accuracy: 0.8560\n",
      "Epoch 40/50\n",
      "77/77 [==============================] - 0s 5ms/step - loss: 0.2641 - accuracy: 0.9102 - val_loss: 0.3514 - val_accuracy: 0.8521\n",
      "Epoch 41/50\n",
      "77/77 [==============================] - 0s 6ms/step - loss: 0.2586 - accuracy: 0.9193 - val_loss: 0.3494 - val_accuracy: 0.8482\n",
      "Epoch 42/50\n",
      "77/77 [==============================] - 0s 6ms/step - loss: 0.2634 - accuracy: 0.9232 - val_loss: 0.3466 - val_accuracy: 0.8482\n",
      "Epoch 43/50\n",
      "77/77 [==============================] - 0s 5ms/step - loss: 0.2561 - accuracy: 0.9310 - val_loss: 0.3461 - val_accuracy: 0.8444\n",
      "Epoch 44/50\n",
      "77/77 [==============================] - 0s 6ms/step - loss: 0.2424 - accuracy: 0.9323 - val_loss: 0.3417 - val_accuracy: 0.8444\n",
      "Epoch 45/50\n",
      "77/77 [==============================] - 0s 5ms/step - loss: 0.2389 - accuracy: 0.9245 - val_loss: 0.3440 - val_accuracy: 0.8521\n",
      "Epoch 46/50\n",
      "77/77 [==============================] - 0s 5ms/step - loss: 0.2479 - accuracy: 0.9219 - val_loss: 0.3408 - val_accuracy: 0.8521\n",
      "Epoch 47/50\n",
      "77/77 [==============================] - 0s 6ms/step - loss: 0.2476 - accuracy: 0.9219 - val_loss: 0.3456 - val_accuracy: 0.8444\n",
      "Epoch 48/50\n",
      "77/77 [==============================] - 0s 6ms/step - loss: 0.2401 - accuracy: 0.9180 - val_loss: 0.3485 - val_accuracy: 0.8482\n",
      "Epoch 49/50\n",
      "77/77 [==============================] - 0s 6ms/step - loss: 0.2441 - accuracy: 0.9245 - val_loss: 0.3451 - val_accuracy: 0.8482\n",
      "Epoch 50/50\n",
      "77/77 [==============================] - 0s 6ms/step - loss: 0.2553 - accuracy: 0.9128 - val_loss: 0.3428 - val_accuracy: 0.8482\n"
     ]
    }
   ],
   "source": [
    "# fit the binary model on the training data\n",
    "history=binary_model.fit(X_train, Y_train_binary, validation_data=(X_test, Y_test_binary), epochs=50, batch_size=10)"
   ]
  },
  {
   "cell_type": "code",
   "execution_count": 51,
   "id": "8127fa55",
   "metadata": {},
   "outputs": [
    {
     "data": {
      "image/png": "[encoded data removed]",
      "text/plain": [
       "<Figure size 432x288 with 1 Axes>"
      ]
     },
     "metadata": {
      "needs_background": "light"
     },
     "output_type": "display_data"
    }
   ],
   "source": [
    "# Model accuracy\n",
    "plt.plot(history.history['accuracy'])\n",
    "plt.plot(history.history['val_accuracy'])\n",
    "plt.title('Model Accuracy')\n",
    "plt.ylabel('accuracy')\n",
    "plt.xlabel('epoch')\n",
    "plt.legend(['train', 'test'])\n",
    "plt.show()"
   ]
  },
  {
   "cell_type": "code",
   "execution_count": 52,
   "id": "6903881d",
   "metadata": {},
   "outputs": [
    {
     "data": {
      "image/png": "[encoded data removed]",
      "text/plain": [
       "<Figure size 432x288 with 1 Axes>"
      ]
     },
     "metadata": {
      "needs_background": "light"
     },
     "output_type": "display_data"
    }
   ],
   "source": [
    "# Model Losss\n",
    "plt.plot(history.history['loss'])\n",
    "plt.plot(history.history['val_loss'])\n",
    "plt.title('Model Loss')\n",
    "plt.ylabel('loss')\n",
    "plt.xlabel('epoch')\n",
    "plt.legend(['train', 'test'])\n",
    "plt.show()"
   ]
  },
  {
   "cell_type": "markdown",
   "id": "3be04e0f",
   "metadata": {},
   "source": [
    "## Results and Metrices"
   ]
  },
  {
   "cell_type": "code",
   "execution_count": 53,
   "id": "bcc9bc3c",
   "metadata": {},
   "outputs": [
    {
     "name": "stdout",
     "output_type": "stream",
     "text": [
      "Results for Categorical Model\n",
      "0.8521400778210116\n",
      "              precision    recall  f1-score   support\n",
      "\n",
      "           0       0.86      0.85      0.85       132\n",
      "           1       0.84      0.86      0.85       125\n",
      "\n",
      "    accuracy                           0.85       257\n",
      "   macro avg       0.85      0.85      0.85       257\n",
      "weighted avg       0.85      0.85      0.85       257\n",
      "\n"
     ]
    }
   ],
   "source": [
    "# generate classification report using predictions for categorical model\n",
    "from sklearn.metrics import classification_report, accuracy_score\n",
    "\n",
    "categorical_pred = np.argmax(model.predict(X_test), axis=1)\n",
    "\n",
    "print('Results for Categorical Model')\n",
    "print(accuracy_score(y_test, categorical_pred))\n",
    "print(classification_report(y_test, categorical_pred))"
   ]
  },
  {
   "cell_type": "code",
   "execution_count": 54,
   "id": "cedb2ebf",
   "metadata": {},
   "outputs": [
    {
     "name": "stdout",
     "output_type": "stream",
     "text": [
      "Results for Binary Model\n",
      "0.8482490272373541\n",
      "              precision    recall  f1-score   support\n",
      "\n",
      "           0       0.87      0.83      0.85       132\n",
      "           1       0.83      0.86      0.85       125\n",
      "\n",
      "    accuracy                           0.85       257\n",
      "   macro avg       0.85      0.85      0.85       257\n",
      "weighted avg       0.85      0.85      0.85       257\n",
      "\n"
     ]
    }
   ],
   "source": [
    "# generate classification report using predictions for binary model\n",
    "from sklearn.metrics import classification_report, accuracy_score\n",
    "# generate classification report using predictions for binary model \n",
    "binary_pred = np.round(binary_model.predict(X_test)).astype(int)\n",
    "\n",
    "print('Results for Binary Model')\n",
    "print(accuracy_score(Y_test_binary, binary_pred))\n",
    "print(classification_report(Y_test_binary, binary_pred))"
   ]
  },
  {
   "cell_type": "code",
   "execution_count": null,
   "id": "6bdfa96a",
   "metadata": {},
   "outputs": [],
   "source": []
  }
 ],
 "metadata": {
  "kernelspec": {
   "display_name": "Python 3 (ipykernel)",
   "language": "python",
   "name": "python3"
  },
  "language_info": {
   "codemirror_mode": {
    "name": "ipython",
    "version": 3
   },
   "file_extension": ".py",
   "mimetype": "text/x-python",
   "name": "python",
   "nbconvert_exporter": "python",
   "pygments_lexer": "ipython3",
   "version": "3.8.0"
  }
 },
 "nbformat": 4,
 "nbformat_minor": 5
}
